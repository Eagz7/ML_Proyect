{
  "nbformat": 4,
  "nbformat_minor": 0,
  "metadata": {
    "colab": {
      "provenance": [],
      "toc_visible": true,
      "include_colab_link": true
    },
    "kernelspec": {
      "name": "python3",
      "display_name": "Python 3"
    },
    "language_info": {
      "name": "python"
    }
  },
  "cells": [
    {
      "cell_type": "markdown",
      "metadata": {
        "id": "view-in-github",
        "colab_type": "text"
      },
      "source": [
        "<a href=\"https://colab.research.google.com/github/Eagz7/ML_Proyect/blob/main/ML_ProyectoFinal.ipynb\" target=\"_parent\"><img src=\"https://colab.research.google.com/assets/colab-badge.svg\" alt=\"Open In Colab\"/></a>"
      ]
    },
    {
      "cell_type": "markdown",
      "source": [
        "INTEGRANTES\n",
        "*   Sonali Silva Barreda\n",
        "*   Erick Alexander Garcia Zavaleta\n"
      ],
      "metadata": {
        "id": "mlgjZcbVxLG5"
      }
    },
    {
      "cell_type": "markdown",
      "source": [
        "## **1: Proceso de limpieza**"
      ],
      "metadata": {
        "id": "MLQR288mxdJQ"
      }
    },
    {
      "cell_type": "code",
      "source": [
        "#importamos las librerias\n",
        "import numpy as np\n",
        "import pandas as pd \n",
        "from pandas.core.sorting import decons_obs_group_ids\n",
        "import matplotlib.pyplot as plt\n",
        "from sklearn_pandas import CategoricalImputer\n",
        "import seaborn as sns\n",
        "from sklearn.compose import make_column_transformer\n",
        "from sklearn.linear_model import LinearRegression\n",
        "from sklearn.pipeline import Pipeline\n",
        "from sklearn.model_selection import cross_val_score\n",
        "from sklearn.model_selection import train_test_split\n",
        "from sklearn.preprocessing import StandardScaler #NORMALIZATION\n"
      ],
      "metadata": {
        "id": "ZSsFy79_w8X1"
      },
      "execution_count": null,
      "outputs": []
    },
    {
      "cell_type": "code",
      "source": [
        "data = pd.read_csv(\"TB_HOSP_VAC_FALLECIDOS.csv\" )\n",
        "data.head()\n",
        "#obteniendo el nombre de cada columna\n",
        "columns_names = data.columns.values\n",
        "columns_names_list = list(columns_names)\n",
        "print(\"-------------------------------------\")\n",
        "print(\"% DE NULOS POR COLUMNA\")\n",
        "print(\"-------------------------------------\")\n",
        "total=len(columns_names_list)-1\n",
        "print(total)\n",
        "i=0\n",
        "data2=data\n",
        "\n",
        "#determinar % de valores nulos en la columna\n",
        "def porc_fal(columna):\n",
        "  num=columna.isnull().sum()\n",
        "  len_data=len(data)\n",
        "  return(num/len_data)*100\n",
        "\n",
        "columnasvacias=[]\n",
        "i=0\n",
        "j=0\n",
        "numcolums=list\n",
        "for i in range(0,total): #imprimir el nombre de la columna\n",
        "  print(data.columns.values[i], \"             \",porc_fal(data[data.columns.values[i]])) #imprimir porcentaje de nulos\n",
        "  if porc_fal(data[data.columns.values[i]]) >= 80: #guardar la posicion de columnas que tengan más del 80% de valores nulos\n",
        "    columnasvacias.append(i)\n",
        "    print(data.columns.values[i], \"posicion -------->\",i, \" !!!!!!! MAYOR A 80 !!!!!!!! \")\n"
      ],
      "metadata": {
        "colab": {
          "base_uri": "https://localhost:8080/"
        },
        "id": "B7QO8Qz9MPJ4",
        "outputId": "84351a8f-e250-4f30-d0f8-5d6a5198655c"
      },
      "execution_count": null,
      "outputs": [
        {
          "output_type": "stream",
          "name": "stdout",
          "text": [
            "-------------------------------------\n",
            "% DE NULOS POR COLUMNA\n",
            "-------------------------------------\n",
            "31\n",
            "eess_renaes               0.0\n",
            "eess_diresa               0.0\n",
            "eess_red               0.0\n",
            "eess_nombre               0.0\n",
            "id_eess               0.0\n",
            "id_persona               0.0\n",
            "edad               6.349504406024921\n",
            "sexo               5.580294271496975\n",
            "fecha_ingreso_hosp               0.0\n",
            "flag_uci               0.0\n",
            "fecha_ingreso_uci               90.63267030594042\n",
            "fecha_ingreso_uci posicion --------> 10  !!!!!!! MAYOR A 80 !!!!!!!! \n",
            "fecha_ingreso_ucin               94.77715036817469\n",
            "fecha_ingreso_ucin posicion --------> 11  !!!!!!! MAYOR A 80 !!!!!!!! \n",
            "con_oxigeno               0.004023767050712878\n",
            "con_ventilacion               0.010059417626782193\n",
            "fecha_segumiento_hosp_ultimo               0.0006706278417854796\n",
            "evolucion_hosp_ultimo               1.5478090588408868\n",
            "flag_vacuna               0.0\n",
            "fecha_dosis1               36.6156095336454\n",
            "fabricante_dosis1               36.6156095336454\n",
            "fecha_dosis2               39.4791904180694\n",
            "fabricante_dosis2               39.4791904180694\n",
            "fecha_dosis3               49.16775084834422\n",
            "fabricante_dosis3               49.16775084834422\n",
            "fecha_dosis4               79.54048580280859\n",
            "fabricante_dosis4               79.54048580280859\n",
            "cdc_positividad               0.0\n",
            "cdc_fecha_fallecido_covid               74.24319648054508\n",
            "cdc_fallecido_covid               0.0\n",
            "ubigeo_inei_domicilio               0.0\n",
            "dep_domicilio               0.0\n",
            "prov_domicilio               0.0\n"
          ]
        }
      ]
    },
    {
      "cell_type": "code",
      "source": [
        "data.dtypes"
      ],
      "metadata": {
        "id": "Qc_qCnHXs7rE",
        "colab": {
          "base_uri": "https://localhost:8080/"
        },
        "outputId": "21c783a5-b80e-456b-83a6-d2cc92454504"
      },
      "execution_count": null,
      "outputs": [
        {
          "output_type": "execute_result",
          "data": {
            "text/plain": [
              "eess_renaes                       int64\n",
              "eess_diresa                      object\n",
              "eess_red                         object\n",
              "eess_nombre                      object\n",
              "id_eess                           int64\n",
              "id_persona                        int64\n",
              "edad                            float64\n",
              "sexo                             object\n",
              "fecha_ingreso_hosp               object\n",
              "flag_uci                          int64\n",
              "fecha_ingreso_uci                object\n",
              "fecha_ingreso_ucin               object\n",
              "con_oxigeno                     float64\n",
              "con_ventilacion                 float64\n",
              "fecha_segumiento_hosp_ultimo     object\n",
              "evolucion_hosp_ultimo            object\n",
              "flag_vacuna                       int64\n",
              "fecha_dosis1                     object\n",
              "fabricante_dosis1                object\n",
              "fecha_dosis2                     object\n",
              "fabricante_dosis2                object\n",
              "fecha_dosis3                     object\n",
              "fabricante_dosis3                object\n",
              "fecha_dosis4                     object\n",
              "fabricante_dosis4                object\n",
              "cdc_positividad                   int64\n",
              "cdc_fecha_fallecido_covid        object\n",
              "cdc_fallecido_covid               int64\n",
              "ubigeo_inei_domicilio             int64\n",
              "dep_domicilio                    object\n",
              "prov_domicilio                   object\n",
              "dist_domicilio                   object\n",
              "dtype: object"
            ]
          },
          "metadata": {},
          "execution_count": 56
        }
      ]
    },
    {
      "cell_type": "code",
      "source": [
        "data2.isnull().sum()"
      ],
      "metadata": {
        "id": "tY4Snqoks_Kk",
        "colab": {
          "base_uri": "https://localhost:8080/"
        },
        "outputId": "b0e00c6f-6a85-4140-ea36-97a4b9b2e893"
      },
      "execution_count": null,
      "outputs": [
        {
          "output_type": "execute_result",
          "data": {
            "text/plain": [
              "eess_renaes                          0\n",
              "eess_diresa                          0\n",
              "eess_red                             0\n",
              "eess_nombre                          0\n",
              "id_eess                              0\n",
              "id_persona                           0\n",
              "edad                              9468\n",
              "sexo                              8321\n",
              "fecha_ingreso_hosp                   0\n",
              "flag_uci                             0\n",
              "fecha_ingreso_uci               135146\n",
              "fecha_ingreso_ucin              141326\n",
              "con_oxigeno                          6\n",
              "con_ventilacion                     15\n",
              "fecha_segumiento_hosp_ultimo         1\n",
              "evolucion_hosp_ultimo             2308\n",
              "flag_vacuna                          0\n",
              "fecha_dosis1                     54599\n",
              "fabricante_dosis1                54599\n",
              "fecha_dosis2                     58869\n",
              "fabricante_dosis2                58869\n",
              "fecha_dosis3                     73316\n",
              "fabricante_dosis3                73316\n",
              "fecha_dosis4                    118606\n",
              "fabricante_dosis4               118606\n",
              "cdc_positividad                      0\n",
              "cdc_fecha_fallecido_covid       110707\n",
              "cdc_fallecido_covid                  0\n",
              "ubigeo_inei_domicilio                0\n",
              "dep_domicilio                        0\n",
              "prov_domicilio                       0\n",
              "dist_domicilio                       0\n",
              "dtype: int64"
            ]
          },
          "metadata": {},
          "execution_count": 57
        }
      ]
    },
    {
      "cell_type": "code",
      "source": [
        "elementos=0\n",
        "posicionmovida=0\n",
        "total=len(columnasvacias)\n",
        "print(total)\n",
        "\n",
        "#borrar columnas con mas del 80% de nulos\n",
        "while elementos < len(columnasvacias):\n",
        "    borrar= columnasvacias[elementos] - posicionmovida \n",
        "    nombre=data2.columns.values[borrar] \n",
        "    print('borrado ---------------------> ', nombre) #nombre de la columna borrada\n",
        "    data2.drop(columns=nombre,axis=1,inplace=True)  #Borrando valores\n",
        "    posicionmovida=1+elementos  #empezar a descontar las posiciones borradas\n",
        "    elementos = elementos + 1\n",
        "\n",
        "print(len(data2.columns))#imprimir el nuevo tamaño\n",
        "print(data2.columns)\n",
        "\n",
        "columns_names2 = data2.columns.values\n",
        "columns_names_list2 = list(columns_names2)\n",
        "#df.columns.values[1]\n",
        "total=len(columns_names_list2)\n",
        "print(total)\n",
        "\n",
        "#object float64\n",
        "numcolums=list\n",
        "for i in range(0,total): #recorrer la data borrada\n",
        "  columnanombre=data.columns.values[i]#nombre de la columna\n",
        "  print(\"----------------------------\")\n",
        "  if data2[columnanombre].dtype == np.int64 or data2[columnanombre].dtype == np.float64:\n",
        "    \n",
        "    print(\"LA COLUMNA    \",columnanombre, \" ES NUMERICA\")\n",
        "    media=data2[columnanombre].mean()\n",
        "    mediana=data2[columnanombre].median()\n",
        "    moda=pd.Series(data2[[columnanombre]].values.flatten()).mode()[0]\n",
        "    \n",
        "    print(\"MEDIA\",media)\n",
        "    print(\"MEDIANA\",mediana)\n",
        "    print(\"MODA\", moda)\n",
        "    uno=(mediana-media)\n",
        "    dos=(mediana-moda)\n",
        "\n",
        "    #VOLVEMOS LOS NUMEROS POSITIVOS\n",
        "    if uno < 0:\n",
        "      uno=uno*-1\n",
        "    if dos < 0:\n",
        "      dos=dos*-1\n",
        "\n",
        "    if uno<dos or uno==0:\n",
        "      print(\"GANÓ MEDIA\") \n",
        "      #IMPUTANDO VALORES CON LOS DATOS DE LA MEDIA\n",
        "      data2[columnanombre]=data2[columnanombre].fillna(round(media))\n",
        "      print(\"----------------------------\")\n",
        "\n",
        "    elif dos<uno or dos==0:\n",
        "      print(\"GANÓ MODA\")    \n",
        "      #IMPUTANDO VALORES CON DATOS DE LA MODA\n",
        "      data2[columnanombre]=data2[columnanombre].fillna(round(moda)) \n",
        "      print(\"----------------------------\")\n",
        "\n",
        "  elif data2[columnanombre].dtype == object:\n",
        "    print(\"----------------------------\")\n",
        "    print(\"LA COLUMNA    \",columnanombre, \" ES CATEGORICA\")\n",
        "    if columnanombre == \"sexo\": #la unica nominal de nuestra BD\n",
        "      replacenom = {\"sexo\":     {\"F\": 0, \"M\": 1}}\n",
        "      data2 = data2.replace(replacenom)\n",
        "      media=data2[columnanombre].mean()\n",
        "      data2[columnanombre]=data2[columnanombre].fillna(round(media))\n",
        "\n",
        "    else:\n",
        "      data2[columnanombre]=data2[columnanombre].fillna(\"No\") #ordinales con NO\n",
        "      data2[columnanombre] = data2[columnanombre].astype('category')\n",
        "      print(data2[columnanombre].value_counts())#Para saber cuántas categorías existen, usamos count_values\n",
        "      data2[columnanombre] = data2[columnanombre].cat.codes #Con el comando \"cat.codes\" convertimos los nombres a valores\n",
        "      print(data2[columnanombre].value_counts())\n",
        "    print(\"----------------------------\")"
      ],
      "metadata": {
        "colab": {
          "base_uri": "https://localhost:8080/"
        },
        "id": "oQCPn_sPtFX0",
        "outputId": "3d6ef0ad-5ba6-402d-bf2d-5d550a6a4c42"
      },
      "execution_count": null,
      "outputs": [
        {
          "output_type": "stream",
          "name": "stdout",
          "text": [
            "2\n",
            "borrado --------------------->  fecha_ingreso_uci\n",
            "borrado --------------------->  fecha_ingreso_ucin\n",
            "30\n",
            "Index(['eess_renaes', 'eess_diresa', 'eess_red', 'eess_nombre', 'id_eess',\n",
            "       'id_persona', 'edad', 'sexo', 'fecha_ingreso_hosp', 'flag_uci',\n",
            "       'con_oxigeno', 'con_ventilacion', 'fecha_segumiento_hosp_ultimo',\n",
            "       'evolucion_hosp_ultimo', 'flag_vacuna', 'fecha_dosis1',\n",
            "       'fabricante_dosis1', 'fecha_dosis2', 'fabricante_dosis2',\n",
            "       'fecha_dosis3', 'fabricante_dosis3', 'fecha_dosis4',\n",
            "       'fabricante_dosis4', 'cdc_positividad', 'cdc_fecha_fallecido_covid',\n",
            "       'cdc_fallecido_covid', 'ubigeo_inei_domicilio', 'dep_domicilio',\n",
            "       'prov_domicilio', 'dist_domicilio'],\n",
            "      dtype='object')\n",
            "30\n",
            "----------------------------\n",
            "LA COLUMNA     eess_renaes  ES NUMERICA\n",
            "MEDIA 7403.9772992475555\n",
            "MEDIANA 5883.0\n",
            "MODA 23159\n",
            "GANÓ MEDIA\n",
            "----------------------------\n",
            "----------------------------\n",
            "----------------------------\n",
            "LA COLUMNA     eess_diresa  ES CATEGORICA\n",
            "LIMA DIRIS SUR       24266\n",
            "LIMA DIRIS CENTRO    18781\n",
            "ANCASH               13701\n",
            "CUSCO                12295\n",
            "CAJAMARCA             9449\n",
            "JUNIN                 8452\n",
            "PIURA                 8417\n",
            "LIMA DIRIS ESTE       7623\n",
            "ICA                   6975\n",
            "LIMA DIRIS NORTE      5252\n",
            "UCAYALI               4879\n",
            "SAN MARTIN            4325\n",
            "CALLAO                3943\n",
            "LIMA PROVINCIAS       3712\n",
            "TACNA                 2912\n",
            "APURIMAC              2816\n",
            "AMAZONAS              1882\n",
            "HUANCAVELICA          1856\n",
            "HUANUCO               1718\n",
            "MADRE DE DIOS         1714\n",
            "MOQUEGUA              1581\n",
            "LAMBAYEQUE             881\n",
            "PASCO                  648\n",
            "PUNO                   378\n",
            "TUMBES                 319\n",
            "AYACUCHO               184\n",
            "LORETO                 127\n",
            "AREQUIPA                27\n",
            "LA LIBERTAD              1\n",
            "Name: eess_diresa, dtype: int64\n",
            "17    24266\n",
            "14    18781\n",
            "1     13701\n",
            "7     12295\n",
            "5      9449\n",
            "11     8452\n",
            "23     8417\n",
            "15     7623\n",
            "10     6975\n",
            "16     5252\n",
            "28     4879\n",
            "25     4325\n",
            "6      3943\n",
            "18     3712\n",
            "26     2912\n",
            "2      2816\n",
            "0      1882\n",
            "8      1856\n",
            "9      1718\n",
            "20     1714\n",
            "21     1581\n",
            "13      881\n",
            "22      648\n",
            "24      378\n",
            "27      319\n",
            "4       184\n",
            "19      127\n",
            "3        27\n",
            "12        1\n",
            "Name: eess_diresa, dtype: int64\n",
            "----------------------------\n",
            "----------------------------\n",
            "----------------------------\n",
            "LA COLUMNA     eess_red  ES CATEGORICA\n",
            "NO PERTENECE A NINGUNA RED        114333\n",
            "PIURA CASTILLA                      4733\n",
            "CHINCHA - PISCO                     4061\n",
            "FEDERICO BASADRE - YARINACOCHA      3522\n",
            "RED II HUAURA - OYON                2733\n",
            "CAJAMARCA                           2023\n",
            "HUANUCO                             1718\n",
            "JAUJA                               1560\n",
            "PACIFICO SUR                        1029\n",
            "HUAYLAS NORTE                        993\n",
            "CUTERVO                              929\n",
            "RED VII CA¥ETE - YAUYOS              901\n",
            "SATIPO                               854\n",
            "ILO                                  698\n",
            "BAGUA                                676\n",
            "OXAPAMPA                             648\n",
            "TAYACAJA                             647\n",
            "CONCHUCOS NORTE                      624\n",
            "SAN MARTIN DE PANGOA                 595\n",
            "KIMBIRI PICHARI                      544\n",
            "CANAS-CANCHIS-ESPINAR                533\n",
            "LA CONVENCION                        435\n",
            "HUAYLAS SUR                          426\n",
            "TOCACHE                              412\n",
            "SULLANA                              406\n",
            "CHUMBIVILCAS                         404\n",
            "CONCHUCOS SUR                        333\n",
            "ANGARAES                             302\n",
            "HUANCANE                             261\n",
            "ICA-PALPA-NAZCA                      237\n",
            "AGUAYTIA                             225\n",
            "VENTANILLA                           192\n",
            "SAN MIGUEL                           184\n",
            "TUMBES                               167\n",
            "CHACHAPOYAS                          135\n",
            "MADRE DE DIOS                        130\n",
            "ATALAYA                               94\n",
            "COLLAO                                78\n",
            "HUANCAVELICA                          71\n",
            "CELENDIN                              69\n",
            "RED III HUARAL - CHANCAY              53\n",
            "LAMPA                                 39\n",
            "COCHARCAS                             39\n",
            "ACOBAMBA                              37\n",
            "RED I BARRANCA - CAJATAMBO            25\n",
            "MOYOBAMBA                              5\n",
            "RED GRAN CHIMU                         1\n",
            "Name: eess_red, dtype: int64\n",
            "30    114333\n",
            "33      4733\n",
            "9       4061\n",
            "16      3522\n",
            "36      2733\n",
            "5       2023\n",
            "19      1718\n",
            "24      1560\n",
            "32      1029\n",
            "20       993\n",
            "15       929\n",
            "38       901\n",
            "41       854\n",
            "23       698\n",
            "4        676\n",
            "31       648\n",
            "43       647\n",
            "13       624\n",
            "39       595\n",
            "25       544\n",
            "6        533\n",
            "26       435\n",
            "21       426\n",
            "44       412\n",
            "42       406\n",
            "10       404\n",
            "14       333\n",
            "2        302\n",
            "17       261\n",
            "22       237\n",
            "1        225\n",
            "46       192\n",
            "40       184\n",
            "45       167\n",
            "8        135\n",
            "28       130\n",
            "3         94\n",
            "12        78\n",
            "18        71\n",
            "7         69\n",
            "37        53\n",
            "11        39\n",
            "27        39\n",
            "0         37\n",
            "35        25\n",
            "29         5\n",
            "34         1\n",
            "Name: eess_red, dtype: int64\n",
            "----------------------------\n",
            "----------------------------\n",
            "----------------------------\n",
            "LA COLUMNA     eess_nombre  ES CATEGORICA\n",
            "HOSPITAL DE EMERGENCIAS VILLA EL SALVADOR                                           21276\n",
            "NACIONAL  DOS DE MAYO                                                                5748\n",
            "ELEAZAR GUZMAN BARRON                                                                5631\n",
            "HOSPITAL NACIONAL ARZOBISPO LOAYZA                                                   5437\n",
            "HOSPITAL NACIONAL CAYETANO HEREDIA                                                   5198\n",
            "                                                                                    ...  \n",
            "INSTITUTO NACIONAL DE REHABILITACION \"DRA. ADRIANA REBAZA FLORES\" AMISTAD PERU -       18\n",
            "HOSPITAL  MOYOBAMBA                                                                     5\n",
            "CLINICA SAN PABLO AREQUIPA                                                              2\n",
            "HOSPITAL DE CHANCAY Y SBS \"DR. HIDALGO ATOCHE LÓPEZ\"                                    1\n",
            "HOSPITAL PROVINICIAL DE CASCAS                                                          1\n",
            "Name: eess_nombre, Length: 107, dtype: int64\n",
            "39    21276\n",
            "93     5748\n",
            "11     5631\n",
            "59     5437\n",
            "60     5198\n",
            "      ...  \n",
            "87       18\n",
            "17        5\n",
            "7         2\n",
            "64        1\n",
            "38        1\n",
            "Name: eess_nombre, Length: 107, dtype: int64\n",
            "----------------------------\n",
            "----------------------------\n",
            "LA COLUMNA     id_eess  ES NUMERICA\n",
            "MEDIA 7142.586497579034\n",
            "MEDIANA 5880.0\n",
            "MODA 21646\n",
            "GANÓ MEDIA\n",
            "----------------------------\n",
            "----------------------------\n",
            "LA COLUMNA     id_persona  ES NUMERICA\n",
            "MEDIA 19575706.617681775\n",
            "MEDIANA 18220074.5\n",
            "MODA 6054506\n",
            "GANÓ MEDIA\n",
            "----------------------------\n",
            "----------------------------\n",
            "LA COLUMNA     edad  ES NUMERICA\n",
            "MEDIA 51.14616960027498\n",
            "MEDIANA 53.0\n",
            "MODA 57.0\n",
            "GANÓ MEDIA\n",
            "----------------------------\n",
            "----------------------------\n",
            "----------------------------\n",
            "LA COLUMNA     sexo  ES CATEGORICA\n",
            "----------------------------\n",
            "----------------------------\n",
            "----------------------------\n",
            "LA COLUMNA     fecha_ingreso_hosp  ES CATEGORICA\n",
            "17/04/2021    451\n",
            "20/07/2020    451\n",
            "9/04/2021     449\n",
            "29/03/2021    445\n",
            "12/04/2021    445\n",
            "             ... \n",
            "5/03/2020       1\n",
            "19/03/2020      1\n",
            "17/03/2020      1\n",
            "19/02/2020      1\n",
            "8/01/2020       1\n",
            "Name: fecha_ingreso_hosp, Length: 1013, dtype: int64\n",
            "416    451\n",
            "274    451\n",
            "987    449\n",
            "700    445\n",
            "106    445\n",
            "      ... \n",
            "891      1\n",
            "946      1\n",
            "338      1\n",
            "848      1\n",
            "270      1\n",
            "Name: fecha_ingreso_hosp, Length: 1013, dtype: int64\n",
            "----------------------------\n",
            "----------------------------\n",
            "LA COLUMNA     flag_uci  ES NUMERICA\n",
            "MEDIA 0.13244229247421435\n",
            "MEDIANA 0.0\n",
            "MODA 0\n",
            "GANÓ MODA\n",
            "----------------------------\n",
            "----------------------------\n",
            "LA COLUMNA     con_oxigeno  ES NUMERICA\n",
            "MEDIA 0.6661748531265929\n",
            "MEDIANA 1.0\n",
            "MODA 1.0\n",
            "GANÓ MODA\n",
            "----------------------------\n",
            "----------------------------\n",
            "LA COLUMNA     con_ventilacion  ES NUMERICA\n",
            "MEDIA 0.09035607213998753\n",
            "MEDIANA 0.0\n",
            "MODA 0.0\n",
            "GANÓ MODA\n",
            "----------------------------\n",
            "----------------------------\n",
            "----------------------------\n",
            "LA COLUMNA     fecha_segumiento_hosp_ultimo  ES CATEGORICA\n",
            "31/08/2020    490\n",
            "5/08/2020     476\n",
            "27/03/2021    459\n",
            "19/04/2021    443\n",
            "12/04/2021    435\n",
            "             ... \n",
            "24/02/2020      1\n",
            "22/03/2020      1\n",
            "22/01/2020      1\n",
            "17/06/2019      1\n",
            "No              1\n",
            "Name: fecha_segumiento_hosp_ultimo, Length: 1006, dtype: int64\n",
            "798     490\n",
            "857     476\n",
            "632     459\n",
            "338     443\n",
            "106     435\n",
            "       ... \n",
            "532       1\n",
            "1005      1\n",
            "276       1\n",
            "971       1\n",
            "465       1\n",
            "Name: fecha_segumiento_hosp_ultimo, Length: 1006, dtype: int64\n",
            "----------------------------\n",
            "----------------------------\n",
            "----------------------------\n",
            "LA COLUMNA     evolucion_hosp_ultimo  ES CATEGORICA\n",
            "alta               103605\n",
            "defuncion           36157\n",
            "referido             3268\n",
            "alta_voluntaria      2516\n",
            "No                   2308\n",
            "estacionario          581\n",
            "desfavorable          554\n",
            "favorable             125\n",
            "Name: evolucion_hosp_ultimo, dtype: int64\n",
            "1    103605\n",
            "3     36157\n",
            "7      3268\n",
            "2      2516\n",
            "0      2308\n",
            "5       581\n",
            "4       554\n",
            "6       125\n",
            "Name: evolucion_hosp_ultimo, dtype: int64\n",
            "----------------------------\n",
            "----------------------------\n",
            "LA COLUMNA     flag_vacuna  ES NUMERICA\n",
            "MEDIA 1.9442842389044623\n",
            "MEDIANA 3.0\n",
            "MODA 0\n",
            "GANÓ MEDIA\n",
            "----------------------------\n",
            "----------------------------\n",
            "----------------------------\n",
            "LA COLUMNA     fecha_dosis1  ES CATEGORICA\n",
            "No            54599\n",
            "8/09/2021      1341\n",
            "17/07/2021     1190\n",
            "7/08/2021      1185\n",
            "11/09/2021     1165\n",
            "              ...  \n",
            "12/09/2022        1\n",
            "24/09/2022        1\n",
            "16/10/2022        1\n",
            "18/12/2022        1\n",
            "2/09/2022         1\n",
            "Name: fecha_dosis1, Length: 674, dtype: int64\n",
            "673    54599\n",
            "643     1341\n",
            "194     1190\n",
            "619     1185\n",
            "59      1165\n",
            "       ...  \n",
            "331        1\n",
            "49         1\n",
            "84         1\n",
            "43         1\n",
            "178        1\n",
            "Name: fecha_dosis1, Length: 674, dtype: int64\n",
            "----------------------------\n",
            "----------------------------\n",
            "----------------------------\n",
            "LA COLUMNA     fabricante_dosis1  ES CATEGORICA\n",
            "No             54599\n",
            "PFIZER         52457\n",
            "SINOPHARM      34831\n",
            "ASTRAZENECA     6850\n",
            "MODERNA          377\n",
            "Name: fabricante_dosis1, dtype: int64\n",
            "2    54599\n",
            "3    52457\n",
            "4    34831\n",
            "0     6850\n",
            "1      377\n",
            "Name: fabricante_dosis1, dtype: int64\n",
            "----------------------------\n",
            "----------------------------\n",
            "----------------------------\n",
            "LA COLUMNA     fecha_dosis2  ES CATEGORICA\n",
            "No            58869\n",
            "7/08/2021      1097\n",
            "29/09/2021     1071\n",
            "28/08/2021      997\n",
            "2/10/2021       963\n",
            "              ...  \n",
            "3/10/2022         1\n",
            "8/12/2022         1\n",
            "13/10/2022        1\n",
            "28/08/2022        1\n",
            "17/12/2022        1\n",
            "Name: fecha_dosis2, Length: 650, dtype: int64\n",
            "649    58869\n",
            "597     1097\n",
            "459     1071\n",
            "437      997\n",
            "256      963\n",
            "       ...  \n",
            "534        1\n",
            "239        1\n",
            "483        1\n",
            "368        1\n",
            "213        1\n",
            "Name: fecha_dosis2, Length: 650, dtype: int64\n",
            "----------------------------\n",
            "----------------------------\n",
            "----------------------------\n",
            "LA COLUMNA     fabricante_dosis2  ES CATEGORICA\n",
            "No             58869\n",
            "PFIZER         50463\n",
            "SINOPHARM      33386\n",
            "ASTRAZENECA     6313\n",
            "MODERNA           83\n",
            "Name: fabricante_dosis2, dtype: int64\n",
            "2    58869\n",
            "3    50463\n",
            "4    33386\n",
            "0     6313\n",
            "1       83\n",
            "Name: fabricante_dosis2, dtype: int64\n",
            "----------------------------\n",
            "----------------------------\n",
            "----------------------------\n",
            "LA COLUMNA     fecha_dosis3  ES CATEGORICA\n",
            "No            73316\n",
            "21/12/2021     1278\n",
            "22/12/2021     1092\n",
            "6/01/2022      1084\n",
            "7/01/2022      1032\n",
            "              ...  \n",
            "18/12/2022        2\n",
            "29/09/2021        1\n",
            "8/10/2021         1\n",
            "7/06/2021         1\n",
            "16/06/2021        1\n",
            "Name: fecha_dosis3, Length: 434, dtype: int64\n",
            "433    73316\n",
            "199     1278\n",
            "213     1092\n",
            "375     1084\n",
            "389     1032\n",
            "       ...  \n",
            "166        2\n",
            "413        1\n",
            "394        1\n",
            "103        1\n",
            "305        1\n",
            "Name: fecha_dosis3, Length: 434, dtype: int64\n",
            "----------------------------\n",
            "----------------------------\n",
            "----------------------------\n",
            "LA COLUMNA     fabricante_dosis3  ES CATEGORICA\n",
            "No             73316\n",
            "PFIZER         62914\n",
            "ASTRAZENECA    11702\n",
            "MODERNA         1163\n",
            "SINOPHARM         19\n",
            "Name: fabricante_dosis3, dtype: int64\n",
            "2    73316\n",
            "3    62914\n",
            "0    11702\n",
            "1     1163\n",
            "4       19\n",
            "Name: fabricante_dosis3, dtype: int64\n",
            "----------------------------\n",
            "----------------------------\n",
            "----------------------------\n",
            "LA COLUMNA     fecha_dosis4  ES CATEGORICA\n",
            "No            118606\n",
            "14/07/2022       352\n",
            "15/07/2022       337\n",
            "23/07/2022       336\n",
            "9/07/2022        333\n",
            "               ...  \n",
            "2/04/2022          3\n",
            "18/12/2022         2\n",
            "21/03/2022         1\n",
            "3/04/2022          1\n",
            "1/04/2022          1\n",
            "Name: fecha_dosis4, Length: 264, dtype: int64\n",
            "263    118606\n",
            "48        352\n",
            "57        337\n",
            "135       336\n",
            "174       333\n",
            "        ...  \n",
            "98          3\n",
            "89          2\n",
            "115         1\n",
            "0           1\n",
            "188         1\n",
            "Name: fecha_dosis4, Length: 264, dtype: int64\n",
            "----------------------------\n",
            "----------------------------\n",
            "----------------------------\n",
            "LA COLUMNA     fabricante_dosis4  ES CATEGORICA\n",
            "No             118606\n",
            "MODERNA         27048\n",
            "PFIZER           3364\n",
            "ASTRAZENECA        81\n",
            "SINOPHARM          15\n",
            "Name: fabricante_dosis4, dtype: int64\n",
            "2    118606\n",
            "1     27048\n",
            "3      3364\n",
            "0        81\n",
            "4        15\n",
            "Name: fabricante_dosis4, dtype: int64\n",
            "----------------------------\n",
            "----------------------------\n",
            "LA COLUMNA     cdc_positividad  ES NUMERICA\n",
            "MEDIA 0.5250680687259413\n",
            "MEDIANA 1.0\n",
            "MODA 1\n",
            "GANÓ MODA\n",
            "----------------------------\n",
            "----------------------------\n",
            "----------------------------\n",
            "LA COLUMNA     cdc_fecha_fallecido_covid  ES CATEGORICA\n",
            "No            110707\n",
            "19/04/2021       177\n",
            "16/04/2021       172\n",
            "22/04/2021       168\n",
            "29/04/2021       167\n",
            "               ...  \n",
            "12/12/2022         1\n",
            "10/06/2022         1\n",
            "15/11/2022         1\n",
            "30/11/2022         1\n",
            "29/03/2020         1\n",
            "Name: cdc_fecha_fallecido_covid, Length: 939, dtype: int64\n",
            "938    110707\n",
            "318       177\n",
            "224       172\n",
            "440       168\n",
            "651       167\n",
            "        ...  \n",
            "184         1\n",
            "802         1\n",
            "564         1\n",
            "669         1\n",
            "599         1\n",
            "Name: cdc_fecha_fallecido_covid, Length: 939, dtype: int64\n",
            "----------------------------\n",
            "----------------------------\n",
            "LA COLUMNA     cdc_fallecido_covid  ES NUMERICA\n",
            "MEDIA 0.2575680351945491\n",
            "MEDIANA 0.0\n",
            "MODA 0\n",
            "GANÓ MODA\n",
            "----------------------------\n",
            "----------------------------\n",
            "LA COLUMNA     ubigeo_inei_domicilio  ES NUMERICA\n",
            "MEDIA 126089.98955161823\n",
            "MEDIANA 150104.0\n",
            "MODA 150142\n",
            "GANÓ MODA\n",
            "----------------------------\n",
            "----------------------------\n",
            "----------------------------\n",
            "LA COLUMNA     dep_domicilio  ES CATEGORICA\n",
            "LIMA             58890\n",
            "ANCASH           13039\n",
            "CUSCO            11492\n",
            "CAJAMARCA         8852\n",
            "PIURA             8276\n",
            "JUNIN             8171\n",
            "ICA               6587\n",
            "CALLAO            4375\n",
            "UCAYALI           4218\n",
            "SAN MARTIN        4191\n",
            "APURIMAC          2934\n",
            "TACNA             2766\n",
            "HUANCAVELICA      2181\n",
            "HUANUCO           2143\n",
            "AMAZONAS          1912\n",
            "MADRE DE DIOS     1554\n",
            "LAMBAYEQUE        1452\n",
            "MOQUEGUA          1403\n",
            "PASCO              949\n",
            "LORETO             779\n",
            "PUNO               727\n",
            "AYACUCHO           706\n",
            "LA LIBERTAD        572\n",
            "AREQUIPA           530\n",
            "TUMBES             415\n",
            "Name: dep_domicilio, dtype: int64\n",
            "14    58890\n",
            "1     13039\n",
            "7     11492\n",
            "5      8852\n",
            "19     8276\n",
            "11     8171\n",
            "10     6587\n",
            "6      4375\n",
            "24     4218\n",
            "21     4191\n",
            "2      2934\n",
            "22     2766\n",
            "8      2181\n",
            "9      2143\n",
            "0      1912\n",
            "16     1554\n",
            "13     1452\n",
            "17     1403\n",
            "18      949\n",
            "15      779\n",
            "20      727\n",
            "4       706\n",
            "12      572\n",
            "3       530\n",
            "23      415\n",
            "Name: dep_domicilio, dtype: int64\n",
            "----------------------------\n",
            "----------------------------\n",
            "----------------------------\n",
            "LA COLUMNA     prov_domicilio  ES CATEGORICA\n",
            "LIMA               54312\n",
            "CUSCO               6871\n",
            "SANTA               5716\n",
            "CALLAO              4375\n",
            "PIURA               3992\n",
            "                   ...  \n",
            "GRAN CHIMU             8\n",
            "LA UNION               7\n",
            "SANCHEZ CARRION        5\n",
            "PUTUMAYO               3\n",
            "JULCAN                 2\n",
            "Name: prov_domicilio, Length: 196, dtype: int64\n",
            "112    54312\n",
            "64      6871\n",
            "166     5716\n",
            "28      4375\n",
            "146     3992\n",
            "       ...  \n",
            "74         8\n",
            "106        7\n",
            "164        5\n",
            "151        3\n",
            "102        2\n",
            "Name: prov_domicilio, Length: 196, dtype: int64\n",
            "----------------------------\n",
            "----------------------------\n",
            "----------------------------\n",
            "LA COLUMNA     dist_domicilio  ES CATEGORICA\n",
            "VILLA EL SALVADOR         11554\n",
            "LIMA                       6034\n",
            "SAN JUAN DE LURIGANCHO     5319\n",
            "SAN MARTIN DE PORRES       3519\n",
            "ATE                        3373\n",
            "                          ...  \n",
            "MARMOT                        1\n",
            "CALLALLI                      1\n",
            "SANTIAGO DE CHILCAS           1\n",
            "CALLAHUANCA                   1\n",
            "SAN JUAN DE IRIS              1\n",
            "Name: dist_domicilio, Length: 1595, dtype: int64\n",
            "1529    11554\n",
            "734      6034\n",
            "1238     5319\n",
            "1252     3519\n",
            "94       3373\n",
            "        ...  \n",
            "64          1\n",
            "389         1\n",
            "282         1\n",
            "1125        1\n",
            "41          1\n",
            "Name: dist_domicilio, Length: 1595, dtype: int64\n",
            "----------------------------\n"
          ]
        }
      ]
    },
    {
      "cell_type": "code",
      "source": [
        "data2.isnull().sum()"
      ],
      "metadata": {
        "colab": {
          "base_uri": "https://localhost:8080/"
        },
        "id": "_o7yLvjpBF8G",
        "outputId": "a150b77a-762b-4b51-84a8-fdb42ef3bbc7"
      },
      "execution_count": null,
      "outputs": [
        {
          "output_type": "execute_result",
          "data": {
            "text/plain": [
              "eess_renaes                     0\n",
              "eess_diresa                     0\n",
              "eess_red                        0\n",
              "eess_nombre                     0\n",
              "id_eess                         0\n",
              "id_persona                      0\n",
              "edad                            0\n",
              "sexo                            0\n",
              "fecha_ingreso_hosp              0\n",
              "flag_uci                        0\n",
              "con_oxigeno                     0\n",
              "con_ventilacion                 0\n",
              "fecha_segumiento_hosp_ultimo    0\n",
              "evolucion_hosp_ultimo           0\n",
              "flag_vacuna                     0\n",
              "fecha_dosis1                    0\n",
              "fabricante_dosis1               0\n",
              "fecha_dosis2                    0\n",
              "fabricante_dosis2               0\n",
              "fecha_dosis3                    0\n",
              "fabricante_dosis3               0\n",
              "fecha_dosis4                    0\n",
              "fabricante_dosis4               0\n",
              "cdc_positividad                 0\n",
              "cdc_fecha_fallecido_covid       0\n",
              "cdc_fallecido_covid             0\n",
              "ubigeo_inei_domicilio           0\n",
              "dep_domicilio                   0\n",
              "prov_domicilio                  0\n",
              "dist_domicilio                  0\n",
              "dtype: int64"
            ]
          },
          "metadata": {},
          "execution_count": 59
        }
      ]
    },
    {
      "cell_type": "code",
      "source": [
        "data2.head()"
      ],
      "metadata": {
        "colab": {
          "base_uri": "https://localhost:8080/",
          "height": 299
        },
        "id": "NZp0BQkLBgqY",
        "outputId": "e9925d11-354a-45ab-9c90-500bfb2fd5e3"
      },
      "execution_count": null,
      "outputs": [
        {
          "output_type": "execute_result",
          "data": {
            "text/plain": [
              "   eess_renaes  eess_diresa  eess_red  eess_nombre  id_eess  id_persona  edad  \\\n",
              "0         4210            5        30           14     4207    18058852   3.0   \n",
              "1        23159           17        30           39    21646    18063364  27.0   \n",
              "2        23159           17        30           39    21646    18063364  27.0   \n",
              "3         4210            5        30           14     4207    15799022  72.0   \n",
              "4        10041            7        30            0     9743    15385783  66.0   \n",
              "\n",
              "   sexo  fecha_ingreso_hosp  flag_uci  ...  fabricante_dosis3  fecha_dosis4  \\\n",
              "0   0.0                  20         0  ...                  2           263   \n",
              "1   0.0                 988         0  ...                  3           263   \n",
              "2   0.0                 988         0  ...                  3           263   \n",
              "3   0.0                 584         0  ...                  2           263   \n",
              "4   0.0                 477         0  ...                  3           263   \n",
              "\n",
              "   fabricante_dosis4  cdc_positividad  cdc_fecha_fallecido_covid  \\\n",
              "0                  2                1                        938   \n",
              "1                  2                0                        938   \n",
              "2                  2                0                        938   \n",
              "3                  2                0                        938   \n",
              "4                  2                0                        938   \n",
              "\n",
              "   cdc_fallecido_covid  ubigeo_inei_domicilio  dep_domicilio  prov_domicilio  \\\n",
              "0                    0                  60801              5              99   \n",
              "1                    0                 150124             14             112   \n",
              "2                    0                 150124             14             112   \n",
              "3                    0                  60801              5              99   \n",
              "4                    0                  80101              7              64   \n",
              "\n",
              "   dist_domicilio  \n",
              "0             632  \n",
              "1            1079  \n",
              "2            1079  \n",
              "3             632  \n",
              "4             431  \n",
              "\n",
              "[5 rows x 30 columns]"
            ],
            "text/html": [
              "\n",
              "  <div id=\"df-630d1d42-88c5-4e49-b4f3-f8e7f53b685b\">\n",
              "    <div class=\"colab-df-container\">\n",
              "      <div>\n",
              "<style scoped>\n",
              "    .dataframe tbody tr th:only-of-type {\n",
              "        vertical-align: middle;\n",
              "    }\n",
              "\n",
              "    .dataframe tbody tr th {\n",
              "        vertical-align: top;\n",
              "    }\n",
              "\n",
              "    .dataframe thead th {\n",
              "        text-align: right;\n",
              "    }\n",
              "</style>\n",
              "<table border=\"1\" class=\"dataframe\">\n",
              "  <thead>\n",
              "    <tr style=\"text-align: right;\">\n",
              "      <th></th>\n",
              "      <th>eess_renaes</th>\n",
              "      <th>eess_diresa</th>\n",
              "      <th>eess_red</th>\n",
              "      <th>eess_nombre</th>\n",
              "      <th>id_eess</th>\n",
              "      <th>id_persona</th>\n",
              "      <th>edad</th>\n",
              "      <th>sexo</th>\n",
              "      <th>fecha_ingreso_hosp</th>\n",
              "      <th>flag_uci</th>\n",
              "      <th>...</th>\n",
              "      <th>fabricante_dosis3</th>\n",
              "      <th>fecha_dosis4</th>\n",
              "      <th>fabricante_dosis4</th>\n",
              "      <th>cdc_positividad</th>\n",
              "      <th>cdc_fecha_fallecido_covid</th>\n",
              "      <th>cdc_fallecido_covid</th>\n",
              "      <th>ubigeo_inei_domicilio</th>\n",
              "      <th>dep_domicilio</th>\n",
              "      <th>prov_domicilio</th>\n",
              "      <th>dist_domicilio</th>\n",
              "    </tr>\n",
              "  </thead>\n",
              "  <tbody>\n",
              "    <tr>\n",
              "      <th>0</th>\n",
              "      <td>4210</td>\n",
              "      <td>5</td>\n",
              "      <td>30</td>\n",
              "      <td>14</td>\n",
              "      <td>4207</td>\n",
              "      <td>18058852</td>\n",
              "      <td>3.0</td>\n",
              "      <td>0.0</td>\n",
              "      <td>20</td>\n",
              "      <td>0</td>\n",
              "      <td>...</td>\n",
              "      <td>2</td>\n",
              "      <td>263</td>\n",
              "      <td>2</td>\n",
              "      <td>1</td>\n",
              "      <td>938</td>\n",
              "      <td>0</td>\n",
              "      <td>60801</td>\n",
              "      <td>5</td>\n",
              "      <td>99</td>\n",
              "      <td>632</td>\n",
              "    </tr>\n",
              "    <tr>\n",
              "      <th>1</th>\n",
              "      <td>23159</td>\n",
              "      <td>17</td>\n",
              "      <td>30</td>\n",
              "      <td>39</td>\n",
              "      <td>21646</td>\n",
              "      <td>18063364</td>\n",
              "      <td>27.0</td>\n",
              "      <td>0.0</td>\n",
              "      <td>988</td>\n",
              "      <td>0</td>\n",
              "      <td>...</td>\n",
              "      <td>3</td>\n",
              "      <td>263</td>\n",
              "      <td>2</td>\n",
              "      <td>0</td>\n",
              "      <td>938</td>\n",
              "      <td>0</td>\n",
              "      <td>150124</td>\n",
              "      <td>14</td>\n",
              "      <td>112</td>\n",
              "      <td>1079</td>\n",
              "    </tr>\n",
              "    <tr>\n",
              "      <th>2</th>\n",
              "      <td>23159</td>\n",
              "      <td>17</td>\n",
              "      <td>30</td>\n",
              "      <td>39</td>\n",
              "      <td>21646</td>\n",
              "      <td>18063364</td>\n",
              "      <td>27.0</td>\n",
              "      <td>0.0</td>\n",
              "      <td>988</td>\n",
              "      <td>0</td>\n",
              "      <td>...</td>\n",
              "      <td>3</td>\n",
              "      <td>263</td>\n",
              "      <td>2</td>\n",
              "      <td>0</td>\n",
              "      <td>938</td>\n",
              "      <td>0</td>\n",
              "      <td>150124</td>\n",
              "      <td>14</td>\n",
              "      <td>112</td>\n",
              "      <td>1079</td>\n",
              "    </tr>\n",
              "    <tr>\n",
              "      <th>3</th>\n",
              "      <td>4210</td>\n",
              "      <td>5</td>\n",
              "      <td>30</td>\n",
              "      <td>14</td>\n",
              "      <td>4207</td>\n",
              "      <td>15799022</td>\n",
              "      <td>72.0</td>\n",
              "      <td>0.0</td>\n",
              "      <td>584</td>\n",
              "      <td>0</td>\n",
              "      <td>...</td>\n",
              "      <td>2</td>\n",
              "      <td>263</td>\n",
              "      <td>2</td>\n",
              "      <td>0</td>\n",
              "      <td>938</td>\n",
              "      <td>0</td>\n",
              "      <td>60801</td>\n",
              "      <td>5</td>\n",
              "      <td>99</td>\n",
              "      <td>632</td>\n",
              "    </tr>\n",
              "    <tr>\n",
              "      <th>4</th>\n",
              "      <td>10041</td>\n",
              "      <td>7</td>\n",
              "      <td>30</td>\n",
              "      <td>0</td>\n",
              "      <td>9743</td>\n",
              "      <td>15385783</td>\n",
              "      <td>66.0</td>\n",
              "      <td>0.0</td>\n",
              "      <td>477</td>\n",
              "      <td>0</td>\n",
              "      <td>...</td>\n",
              "      <td>3</td>\n",
              "      <td>263</td>\n",
              "      <td>2</td>\n",
              "      <td>0</td>\n",
              "      <td>938</td>\n",
              "      <td>0</td>\n",
              "      <td>80101</td>\n",
              "      <td>7</td>\n",
              "      <td>64</td>\n",
              "      <td>431</td>\n",
              "    </tr>\n",
              "  </tbody>\n",
              "</table>\n",
              "<p>5 rows × 30 columns</p>\n",
              "</div>\n",
              "      <button class=\"colab-df-convert\" onclick=\"convertToInteractive('df-630d1d42-88c5-4e49-b4f3-f8e7f53b685b')\"\n",
              "              title=\"Convert this dataframe to an interactive table.\"\n",
              "              style=\"display:none;\">\n",
              "        \n",
              "  <svg xmlns=\"http://www.w3.org/2000/svg\" height=\"24px\"viewBox=\"0 0 24 24\"\n",
              "       width=\"24px\">\n",
              "    <path d=\"M0 0h24v24H0V0z\" fill=\"none\"/>\n",
              "    <path d=\"M18.56 5.44l.94 2.06.94-2.06 2.06-.94-2.06-.94-.94-2.06-.94 2.06-2.06.94zm-11 1L8.5 8.5l.94-2.06 2.06-.94-2.06-.94L8.5 2.5l-.94 2.06-2.06.94zm10 10l.94 2.06.94-2.06 2.06-.94-2.06-.94-.94-2.06-.94 2.06-2.06.94z\"/><path d=\"M17.41 7.96l-1.37-1.37c-.4-.4-.92-.59-1.43-.59-.52 0-1.04.2-1.43.59L10.3 9.45l-7.72 7.72c-.78.78-.78 2.05 0 2.83L4 21.41c.39.39.9.59 1.41.59.51 0 1.02-.2 1.41-.59l7.78-7.78 2.81-2.81c.8-.78.8-2.07 0-2.86zM5.41 20L4 18.59l7.72-7.72 1.47 1.35L5.41 20z\"/>\n",
              "  </svg>\n",
              "      </button>\n",
              "      \n",
              "  <style>\n",
              "    .colab-df-container {\n",
              "      display:flex;\n",
              "      flex-wrap:wrap;\n",
              "      gap: 12px;\n",
              "    }\n",
              "\n",
              "    .colab-df-convert {\n",
              "      background-color: #E8F0FE;\n",
              "      border: none;\n",
              "      border-radius: 50%;\n",
              "      cursor: pointer;\n",
              "      display: none;\n",
              "      fill: #1967D2;\n",
              "      height: 32px;\n",
              "      padding: 0 0 0 0;\n",
              "      width: 32px;\n",
              "    }\n",
              "\n",
              "    .colab-df-convert:hover {\n",
              "      background-color: #E2EBFA;\n",
              "      box-shadow: 0px 1px 2px rgba(60, 64, 67, 0.3), 0px 1px 3px 1px rgba(60, 64, 67, 0.15);\n",
              "      fill: #174EA6;\n",
              "    }\n",
              "\n",
              "    [theme=dark] .colab-df-convert {\n",
              "      background-color: #3B4455;\n",
              "      fill: #D2E3FC;\n",
              "    }\n",
              "\n",
              "    [theme=dark] .colab-df-convert:hover {\n",
              "      background-color: #434B5C;\n",
              "      box-shadow: 0px 1px 3px 1px rgba(0, 0, 0, 0.15);\n",
              "      filter: drop-shadow(0px 1px 2px rgba(0, 0, 0, 0.3));\n",
              "      fill: #FFFFFF;\n",
              "    }\n",
              "  </style>\n",
              "\n",
              "      <script>\n",
              "        const buttonEl =\n",
              "          document.querySelector('#df-630d1d42-88c5-4e49-b4f3-f8e7f53b685b button.colab-df-convert');\n",
              "        buttonEl.style.display =\n",
              "          google.colab.kernel.accessAllowed ? 'block' : 'none';\n",
              "\n",
              "        async function convertToInteractive(key) {\n",
              "          const element = document.querySelector('#df-630d1d42-88c5-4e49-b4f3-f8e7f53b685b');\n",
              "          const dataTable =\n",
              "            await google.colab.kernel.invokeFunction('convertToInteractive',\n",
              "                                                     [key], {});\n",
              "          if (!dataTable) return;\n",
              "\n",
              "          const docLinkHtml = 'Like what you see? Visit the ' +\n",
              "            '<a target=\"_blank\" href=https://colab.research.google.com/notebooks/data_table.ipynb>data table notebook</a>'\n",
              "            + ' to learn more about interactive tables.';\n",
              "          element.innerHTML = '';\n",
              "          dataTable['output_type'] = 'display_data';\n",
              "          await google.colab.output.renderOutput(dataTable, element);\n",
              "          const docLink = document.createElement('div');\n",
              "          docLink.innerHTML = docLinkHtml;\n",
              "          element.appendChild(docLink);\n",
              "        }\n",
              "      </script>\n",
              "    </div>\n",
              "  </div>\n",
              "  "
            ]
          },
          "metadata": {},
          "execution_count": 60
        }
      ]
    },
    {
      "cell_type": "code",
      "source": [
        "len(data)"
      ],
      "metadata": {
        "colab": {
          "base_uri": "https://localhost:8080/"
        },
        "id": "J6uwta1mREXS",
        "outputId": "79833ecb-9de8-4fb1-ce37-a17590c8150a"
      },
      "execution_count": null,
      "outputs": [
        {
          "output_type": "execute_result",
          "data": {
            "text/plain": [
              "149114"
            ]
          },
          "metadata": {},
          "execution_count": 61
        }
      ]
    },
    {
      "cell_type": "code",
      "source": [
        "sns.catplot(x =\"edad\", hue =\"cdc_fallecido_covid\", #fallecido 1, no fallecido 0\n",
        "kind =\"count\", data = data2) "
      ],
      "metadata": {
        "colab": {
          "base_uri": "https://localhost:8080/",
          "height": 387
        },
        "id": "SSB5mKRHGpvF",
        "outputId": "eaea3a80-529a-438d-db92-9e0a4439f850"
      },
      "execution_count": null,
      "outputs": [
        {
          "output_type": "execute_result",
          "data": {
            "text/plain": [
              "<seaborn.axisgrid.FacetGrid at 0x7f3def374730>"
            ]
          },
          "metadata": {},
          "execution_count": 62
        },
        {
          "output_type": "display_data",
          "data": {
            "text/plain": [
              "<Figure size 464.375x360 with 1 Axes>"
            ],
            "image/png": "[encoded data removed]"
          },
          "metadata": {
            "needs_background": "light"
          }
        }
      ]
    },
    {
      "cell_type": "code",
      "source": [
        "#Undersampling\n",
        "# class count\n",
        "class_count_0, class_count_1 = data2['cdc_fallecido_covid'].value_counts()\n",
        "\n",
        "# Separate class\n",
        "class_0 = data2[data2['cdc_fallecido_covid']== 0]\n",
        "class_1 = data2[data2['cdc_fallecido_covid'] == 1] # imprimir la forma de la clase"
      ],
      "metadata": {
        "id": "XiY5JSwzO2gy"
      },
      "execution_count": null,
      "outputs": []
    },
    {
      "cell_type": "code",
      "source": [
        "class_0_under = class_0.sample(class_count_1)\n",
        "test_under = pd.concat([class_0_under, class_1], axis=0)\n",
        "print(\"Total de registros:\",test_under['cdc_fallecido_covid'].value_counts())#graficar el conteo después del submuestreo\n",
        "test_under['cdc_fallecido_covid'].value_counts().plot(kind='bar', title='count (target)')"
      ],
      "metadata": {
        "colab": {
          "base_uri": "https://localhost:8080/",
          "height": 352
        },
        "id": "kULazgww-WKn",
        "outputId": "ac3a7f8e-87ff-426c-eafc-6561fce8a0f7"
      },
      "execution_count": null,
      "outputs": [
        {
          "output_type": "stream",
          "name": "stdout",
          "text": [
            "Total de registros: 0    38407\n",
            "1    38407\n",
            "Name: cdc_fallecido_covid, dtype: int64\n"
          ]
        },
        {
          "output_type": "execute_result",
          "data": {
            "text/plain": [
              "<matplotlib.axes._subplots.AxesSubplot at 0x7f3df00d2a60>"
            ]
          },
          "metadata": {},
          "execution_count": 64
        },
        {
          "output_type": "display_data",
          "data": {
            "text/plain": [
              "<Figure size 432x288 with 1 Axes>"
            ],
            "image/png": "[encoded data removed]"
          },
          "metadata": {
            "needs_background": "light"
          }
        }
      ]
    },
    {
      "cell_type": "code",
      "source": [
        "#ValoresAtipicos\n",
        "#Nos ayudamos de la libreria ArbitraryOutlierCapper\n",
        "!pip install feature-engine\n",
        "from feature_engine.outliers import ArbitraryOutlierCapper"
      ],
      "metadata": {
        "id": "2KO7gt2OUcve",
        "colab": {
          "base_uri": "https://localhost:8080/"
        },
        "outputId": "e3f335eb-5c2c-47b9-8b6d-752906eab541"
      },
      "execution_count": null,
      "outputs": [
        {
          "output_type": "stream",
          "name": "stdout",
          "text": [
            "Looking in indexes: https://pypi.org/simple, https://us-python.pkg.dev/colab-wheels/public/simple/\n",
            "Requirement already satisfied: feature-engine in /usr/local/lib/python3.8/dist-packages (1.5.2)\n",
            "Requirement already satisfied: statsmodels>=0.11.1 in /usr/local/lib/python3.8/dist-packages (from feature-engine) (0.12.2)\n",
            "Requirement already satisfied: pandas>=1.0.3 in /usr/local/lib/python3.8/dist-packages (from feature-engine) (1.3.5)\n",
            "Requirement already satisfied: scipy>=1.4.1 in /usr/local/lib/python3.8/dist-packages (from feature-engine) (1.7.3)\n",
            "Requirement already satisfied: scikit-learn>=1.0.0 in /usr/local/lib/python3.8/dist-packages (from feature-engine) (1.0.2)\n",
            "Requirement already satisfied: numpy>=1.18.2 in /usr/local/lib/python3.8/dist-packages (from feature-engine) (1.21.6)\n",
            "Requirement already satisfied: pytz>=2017.3 in /usr/local/lib/python3.8/dist-packages (from pandas>=1.0.3->feature-engine) (2022.7)\n",
            "Requirement already satisfied: python-dateutil>=2.7.3 in /usr/local/lib/python3.8/dist-packages (from pandas>=1.0.3->feature-engine) (2.8.2)\n",
            "Requirement already satisfied: joblib>=0.11 in /usr/local/lib/python3.8/dist-packages (from scikit-learn>=1.0.0->feature-engine) (1.2.0)\n",
            "Requirement already satisfied: threadpoolctl>=2.0.0 in /usr/local/lib/python3.8/dist-packages (from scikit-learn>=1.0.0->feature-engine) (3.1.0)\n",
            "Requirement already satisfied: patsy>=0.5 in /usr/local/lib/python3.8/dist-packages (from statsmodels>=0.11.1->feature-engine) (0.5.3)\n",
            "Requirement already satisfied: six in /usr/local/lib/python3.8/dist-packages (from patsy>=0.5->statsmodels>=0.11.1->feature-engine) (1.15.0)\n"
          ]
        }
      ]
    },
    {
      "cell_type": "code",
      "source": [
        "data2.edad.max()"
      ],
      "metadata": {
        "colab": {
          "base_uri": "https://localhost:8080/"
        },
        "id": "ICwCGmEcSIER",
        "outputId": "5947721c-1409-4832-800c-3837857881d8"
      },
      "execution_count": null,
      "outputs": [
        {
          "output_type": "execute_result",
          "data": {
            "text/plain": [
              "111.0"
            ]
          },
          "metadata": {},
          "execution_count": 66
        }
      ]
    },
    {
      "cell_type": "code",
      "source": [
        "data2.edad.min()"
      ],
      "metadata": {
        "colab": {
          "base_uri": "https://localhost:8080/"
        },
        "id": "SnYlCVgkUGsn",
        "outputId": "68aeec06-26be-4451-aa62-8c20a2118da6"
      },
      "execution_count": null,
      "outputs": [
        {
          "output_type": "execute_result",
          "data": {
            "text/plain": [
              "0.0"
            ]
          },
          "metadata": {},
          "execution_count": 67
        }
      ]
    },
    {
      "cell_type": "code",
      "source": [
        "capper = ArbitraryOutlierCapper(max_capping_dict={\n",
        "    'edad': 90},\n",
        "    min_capping_dict={\n",
        "    'edad': 18})\n",
        "\n",
        "capper.fit(data2.fillna(0))"
      ],
      "metadata": {
        "colab": {
          "base_uri": "https://localhost:8080/"
        },
        "id": "k-TaRJWZTv8Q",
        "outputId": "2722b29a-de23-4ad0-b32b-35ee7067bcbe"
      },
      "execution_count": null,
      "outputs": [
        {
          "output_type": "execute_result",
          "data": {
            "text/plain": [
              "ArbitraryOutlierCapper(max_capping_dict={'edad': 90},\n",
              "                       min_capping_dict={'edad': 18})"
            ]
          },
          "metadata": {},
          "execution_count": 68
        }
      ]
    },
    {
      "cell_type": "code",
      "source": [
        "capper.right_tail_caps_"
      ],
      "metadata": {
        "colab": {
          "base_uri": "https://localhost:8080/"
        },
        "id": "whJ6g9NIUWK8",
        "outputId": "8e4485eb-4064-4a59-c73a-803479356546"
      },
      "execution_count": null,
      "outputs": [
        {
          "output_type": "execute_result",
          "data": {
            "text/plain": [
              "{'edad': 90}"
            ]
          },
          "metadata": {},
          "execution_count": 69
        }
      ]
    },
    {
      "cell_type": "code",
      "source": [
        "capper.left_tail_caps_"
      ],
      "metadata": {
        "colab": {
          "base_uri": "https://localhost:8080/"
        },
        "id": "sG1sB4RVV2CA",
        "outputId": "e6f79457-0366-48a6-f95a-d700d771c90d"
      },
      "execution_count": null,
      "outputs": [
        {
          "output_type": "execute_result",
          "data": {
            "text/plain": [
              "{'edad': 18}"
            ]
          },
          "metadata": {},
          "execution_count": 70
        }
      ]
    },
    {
      "cell_type": "code",
      "source": [
        "temp = capper.transform(data2.fillna(0))\n",
        "temp.edad.min()"
      ],
      "metadata": {
        "colab": {
          "base_uri": "https://localhost:8080/"
        },
        "id": "mFRAvFN6V2-c",
        "outputId": "a8277270-41e4-4c24-d832-5e1dad99d71a"
      },
      "execution_count": null,
      "outputs": [
        {
          "output_type": "execute_result",
          "data": {
            "text/plain": [
              "18.0"
            ]
          },
          "metadata": {},
          "execution_count": 71
        }
      ]
    },
    {
      "cell_type": "code",
      "source": [
        "temp.edad.max()"
      ],
      "metadata": {
        "colab": {
          "base_uri": "https://localhost:8080/"
        },
        "id": "w9w_-jqH9T0c",
        "outputId": "103d4cbf-94e3-4627-de80-3429f55b4e86"
      },
      "execution_count": null,
      "outputs": [
        {
          "output_type": "execute_result",
          "data": {
            "text/plain": [
              "90.0"
            ]
          },
          "metadata": {},
          "execution_count": 72
        }
      ]
    },
    {
      "cell_type": "markdown",
      "source": [
        "##**2: Transformación y seleccion**\n",
        "\n"
      ],
      "metadata": {
        "id": "u4A4aPOzhcKz"
      }
    },
    {
      "cell_type": "code",
      "source": [
        "#obj_df.describe(include=\"all\")\n",
        "#obj_df.columns\n",
        "#DUMMIES\n",
        "from sklearn.preprocessing import OneHotEncoder\n",
        "oe_style = OneHotEncoder()\n",
        "oe_results = oe_style.fit_transform(data2[[\"cdc_fallecido_covid\"]])\n",
        "#pd.DataFrame(oe_results.toarray(), columns=oe_style.categories_).head()\n",
        "\n",
        "pd.get_dummies(data2, columns=[\"cdc_fallecido_covid\"], prefix=[\"fallecido\"]).head()"
      ],
      "metadata": {
        "colab": {
          "base_uri": "https://localhost:8080/",
          "height": 299
        },
        "id": "qwgI_WbYhfA5",
        "outputId": "5ea6a226-d505-48cf-a2ac-1d9cc5d6daec"
      },
      "execution_count": null,
      "outputs": [
        {
          "output_type": "execute_result",
          "data": {
            "text/plain": [
              "   eess_renaes  eess_diresa  eess_red  eess_nombre  id_eess  id_persona  edad  \\\n",
              "0         4210            5        30           14     4207    18058852   3.0   \n",
              "1        23159           17        30           39    21646    18063364  27.0   \n",
              "2        23159           17        30           39    21646    18063364  27.0   \n",
              "3         4210            5        30           14     4207    15799022  72.0   \n",
              "4        10041            7        30            0     9743    15385783  66.0   \n",
              "\n",
              "   sexo  fecha_ingreso_hosp  flag_uci  ...  fecha_dosis4  fabricante_dosis4  \\\n",
              "0   0.0                  20         0  ...           263                  2   \n",
              "1   0.0                 988         0  ...           263                  2   \n",
              "2   0.0                 988         0  ...           263                  2   \n",
              "3   0.0                 584         0  ...           263                  2   \n",
              "4   0.0                 477         0  ...           263                  2   \n",
              "\n",
              "   cdc_positividad  cdc_fecha_fallecido_covid  ubigeo_inei_domicilio  \\\n",
              "0                1                        938                  60801   \n",
              "1                0                        938                 150124   \n",
              "2                0                        938                 150124   \n",
              "3                0                        938                  60801   \n",
              "4                0                        938                  80101   \n",
              "\n",
              "   dep_domicilio  prov_domicilio  dist_domicilio  fallecido_0  fallecido_1  \n",
              "0              5              99             632            1            0  \n",
              "1             14             112            1079            1            0  \n",
              "2             14             112            1079            1            0  \n",
              "3              5              99             632            1            0  \n",
              "4              7              64             431            1            0  \n",
              "\n",
              "[5 rows x 31 columns]"
            ],
            "text/html": [
              "\n",
              "  <div id=\"df-c0ddd195-0505-4185-a2e2-9bd9ccf1f2ea\">\n",
              "    <div class=\"colab-df-container\">\n",
              "      <div>\n",
              "<style scoped>\n",
              "    .dataframe tbody tr th:only-of-type {\n",
              "        vertical-align: middle;\n",
              "    }\n",
              "\n",
              "    .dataframe tbody tr th {\n",
              "        vertical-align: top;\n",
              "    }\n",
              "\n",
              "    .dataframe thead th {\n",
              "        text-align: right;\n",
              "    }\n",
              "</style>\n",
              "<table border=\"1\" class=\"dataframe\">\n",
              "  <thead>\n",
              "    <tr style=\"text-align: right;\">\n",
              "      <th></th>\n",
              "      <th>eess_renaes</th>\n",
              "      <th>eess_diresa</th>\n",
              "      <th>eess_red</th>\n",
              "      <th>eess_nombre</th>\n",
              "      <th>id_eess</th>\n",
              "      <th>id_persona</th>\n",
              "      <th>edad</th>\n",
              "      <th>sexo</th>\n",
              "      <th>fecha_ingreso_hosp</th>\n",
              "      <th>flag_uci</th>\n",
              "      <th>...</th>\n",
              "      <th>fecha_dosis4</th>\n",
              "      <th>fabricante_dosis4</th>\n",
              "      <th>cdc_positividad</th>\n",
              "      <th>cdc_fecha_fallecido_covid</th>\n",
              "      <th>ubigeo_inei_domicilio</th>\n",
              "      <th>dep_domicilio</th>\n",
              "      <th>prov_domicilio</th>\n",
              "      <th>dist_domicilio</th>\n",
              "      <th>fallecido_0</th>\n",
              "      <th>fallecido_1</th>\n",
              "    </tr>\n",
              "  </thead>\n",
              "  <tbody>\n",
              "    <tr>\n",
              "      <th>0</th>\n",
              "      <td>4210</td>\n",
              "      <td>5</td>\n",
              "      <td>30</td>\n",
              "      <td>14</td>\n",
              "      <td>4207</td>\n",
              "      <td>18058852</td>\n",
              "      <td>3.0</td>\n",
              "      <td>0.0</td>\n",
              "      <td>20</td>\n",
              "      <td>0</td>\n",
              "      <td>...</td>\n",
              "      <td>263</td>\n",
              "      <td>2</td>\n",
              "      <td>1</td>\n",
              "      <td>938</td>\n",
              "      <td>60801</td>\n",
              "      <td>5</td>\n",
              "      <td>99</td>\n",
              "      <td>632</td>\n",
              "      <td>1</td>\n",
              "      <td>0</td>\n",
              "    </tr>\n",
              "    <tr>\n",
              "      <th>1</th>\n",
              "      <td>23159</td>\n",
              "      <td>17</td>\n",
              "      <td>30</td>\n",
              "      <td>39</td>\n",
              "      <td>21646</td>\n",
              "      <td>18063364</td>\n",
              "      <td>27.0</td>\n",
              "      <td>0.0</td>\n",
              "      <td>988</td>\n",
              "      <td>0</td>\n",
              "      <td>...</td>\n",
              "      <td>263</td>\n",
              "      <td>2</td>\n",
              "      <td>0</td>\n",
              "      <td>938</td>\n",
              "      <td>150124</td>\n",
              "      <td>14</td>\n",
              "      <td>112</td>\n",
              "      <td>1079</td>\n",
              "      <td>1</td>\n",
              "      <td>0</td>\n",
              "    </tr>\n",
              "    <tr>\n",
              "      <th>2</th>\n",
              "      <td>23159</td>\n",
              "      <td>17</td>\n",
              "      <td>30</td>\n",
              "      <td>39</td>\n",
              "      <td>21646</td>\n",
              "      <td>18063364</td>\n",
              "      <td>27.0</td>\n",
              "      <td>0.0</td>\n",
              "      <td>988</td>\n",
              "      <td>0</td>\n",
              "      <td>...</td>\n",
              "      <td>263</td>\n",
              "      <td>2</td>\n",
              "      <td>0</td>\n",
              "      <td>938</td>\n",
              "      <td>150124</td>\n",
              "      <td>14</td>\n",
              "      <td>112</td>\n",
              "      <td>1079</td>\n",
              "      <td>1</td>\n",
              "      <td>0</td>\n",
              "    </tr>\n",
              "    <tr>\n",
              "      <th>3</th>\n",
              "      <td>4210</td>\n",
              "      <td>5</td>\n",
              "      <td>30</td>\n",
              "      <td>14</td>\n",
              "      <td>4207</td>\n",
              "      <td>15799022</td>\n",
              "      <td>72.0</td>\n",
              "      <td>0.0</td>\n",
              "      <td>584</td>\n",
              "      <td>0</td>\n",
              "      <td>...</td>\n",
              "      <td>263</td>\n",
              "      <td>2</td>\n",
              "      <td>0</td>\n",
              "      <td>938</td>\n",
              "      <td>60801</td>\n",
              "      <td>5</td>\n",
              "      <td>99</td>\n",
              "      <td>632</td>\n",
              "      <td>1</td>\n",
              "      <td>0</td>\n",
              "    </tr>\n",
              "    <tr>\n",
              "      <th>4</th>\n",
              "      <td>10041</td>\n",
              "      <td>7</td>\n",
              "      <td>30</td>\n",
              "      <td>0</td>\n",
              "      <td>9743</td>\n",
              "      <td>15385783</td>\n",
              "      <td>66.0</td>\n",
              "      <td>0.0</td>\n",
              "      <td>477</td>\n",
              "      <td>0</td>\n",
              "      <td>...</td>\n",
              "      <td>263</td>\n",
              "      <td>2</td>\n",
              "      <td>0</td>\n",
              "      <td>938</td>\n",
              "      <td>80101</td>\n",
              "      <td>7</td>\n",
              "      <td>64</td>\n",
              "      <td>431</td>\n",
              "      <td>1</td>\n",
              "      <td>0</td>\n",
              "    </tr>\n",
              "  </tbody>\n",
              "</table>\n",
              "<p>5 rows × 31 columns</p>\n",
              "</div>\n",
              "      <button class=\"colab-df-convert\" onclick=\"convertToInteractive('df-c0ddd195-0505-4185-a2e2-9bd9ccf1f2ea')\"\n",
              "              title=\"Convert this dataframe to an interactive table.\"\n",
              "              style=\"display:none;\">\n",
              "        \n",
              "  <svg xmlns=\"http://www.w3.org/2000/svg\" height=\"24px\"viewBox=\"0 0 24 24\"\n",
              "       width=\"24px\">\n",
              "    <path d=\"M0 0h24v24H0V0z\" fill=\"none\"/>\n",
              "    <path d=\"M18.56 5.44l.94 2.06.94-2.06 2.06-.94-2.06-.94-.94-2.06-.94 2.06-2.06.94zm-11 1L8.5 8.5l.94-2.06 2.06-.94-2.06-.94L8.5 2.5l-.94 2.06-2.06.94zm10 10l.94 2.06.94-2.06 2.06-.94-2.06-.94-.94-2.06-.94 2.06-2.06.94z\"/><path d=\"M17.41 7.96l-1.37-1.37c-.4-.4-.92-.59-1.43-.59-.52 0-1.04.2-1.43.59L10.3 9.45l-7.72 7.72c-.78.78-.78 2.05 0 2.83L4 21.41c.39.39.9.59 1.41.59.51 0 1.02-.2 1.41-.59l7.78-7.78 2.81-2.81c.8-.78.8-2.07 0-2.86zM5.41 20L4 18.59l7.72-7.72 1.47 1.35L5.41 20z\"/>\n",
              "  </svg>\n",
              "      </button>\n",
              "      \n",
              "  <style>\n",
              "    .colab-df-container {\n",
              "      display:flex;\n",
              "      flex-wrap:wrap;\n",
              "      gap: 12px;\n",
              "    }\n",
              "\n",
              "    .colab-df-convert {\n",
              "      background-color: #E8F0FE;\n",
              "      border: none;\n",
              "      border-radius: 50%;\n",
              "      cursor: pointer;\n",
              "      display: none;\n",
              "      fill: #1967D2;\n",
              "      height: 32px;\n",
              "      padding: 0 0 0 0;\n",
              "      width: 32px;\n",
              "    }\n",
              "\n",
              "    .colab-df-convert:hover {\n",
              "      background-color: #E2EBFA;\n",
              "      box-shadow: 0px 1px 2px rgba(60, 64, 67, 0.3), 0px 1px 3px 1px rgba(60, 64, 67, 0.15);\n",
              "      fill: #174EA6;\n",
              "    }\n",
              "\n",
              "    [theme=dark] .colab-df-convert {\n",
              "      background-color: #3B4455;\n",
              "      fill: #D2E3FC;\n",
              "    }\n",
              "\n",
              "    [theme=dark] .colab-df-convert:hover {\n",
              "      background-color: #434B5C;\n",
              "      box-shadow: 0px 1px 3px 1px rgba(0, 0, 0, 0.15);\n",
              "      filter: drop-shadow(0px 1px 2px rgba(0, 0, 0, 0.3));\n",
              "      fill: #FFFFFF;\n",
              "    }\n",
              "  </style>\n",
              "\n",
              "      <script>\n",
              "        const buttonEl =\n",
              "          document.querySelector('#df-c0ddd195-0505-4185-a2e2-9bd9ccf1f2ea button.colab-df-convert');\n",
              "        buttonEl.style.display =\n",
              "          google.colab.kernel.accessAllowed ? 'block' : 'none';\n",
              "\n",
              "        async function convertToInteractive(key) {\n",
              "          const element = document.querySelector('#df-c0ddd195-0505-4185-a2e2-9bd9ccf1f2ea');\n",
              "          const dataTable =\n",
              "            await google.colab.kernel.invokeFunction('convertToInteractive',\n",
              "                                                     [key], {});\n",
              "          if (!dataTable) return;\n",
              "\n",
              "          const docLinkHtml = 'Like what you see? Visit the ' +\n",
              "            '<a target=\"_blank\" href=https://colab.research.google.com/notebooks/data_table.ipynb>data table notebook</a>'\n",
              "            + ' to learn more about interactive tables.';\n",
              "          element.innerHTML = '';\n",
              "          dataTable['output_type'] = 'display_data';\n",
              "          await google.colab.output.renderOutput(dataTable, element);\n",
              "          const docLink = document.createElement('div');\n",
              "          docLink.innerHTML = docLinkHtml;\n",
              "          element.appendChild(docLink);\n",
              "        }\n",
              "      </script>\n",
              "    </div>\n",
              "  </div>\n",
              "  "
            ]
          },
          "metadata": {},
          "execution_count": 73
        }
      ]
    },
    {
      "cell_type": "code",
      "source": [
        "#Aplicando Regresion Lineal\n",
        "\n",
        "from sklearn.compose import make_column_transformer\n",
        "from sklearn.linear_model import LinearRegression\n",
        "from sklearn.pipeline import Pipeline\n",
        "from sklearn.model_selection import cross_val_score\n",
        "from sklearn.preprocessing import OrdinalEncoder\n",
        "\n",
        "feature_cols = [\n",
        "    'edad', 'sexo', 'evolucion_hosp_ultimo', 'prov_domicilio', 'cdc_fallecido_covid',\n",
        "    'flag_vacuna', 'flag_uci','eess_diresa'\n",
        "]\n",
        "\n",
        "# Eliminar las filas de edad vacías\n",
        "df_ml = data2.dropna(subset=['edad'])\n",
        "\n",
        "X = df_ml[feature_cols]\n",
        "y = df_ml['edad']\n",
        "\n",
        "#"
      ],
      "metadata": {
        "id": "7pfz2lHobIe5"
      },
      "execution_count": null,
      "outputs": []
    },
    {
      "cell_type": "code",
      "source": [
        "enc = make_column_transformer( (OneHotEncoder(handle_unknown='ignore'),\n",
        "                                        ['evolucion_hosp_ultimo','flag_uci','eess_diresa']),\n",
        "                                      (OrdinalEncoder(), ['flag_vacuna']),\n",
        "                                      remainder='passthrough')"
      ],
      "metadata": {
        "id": "h34ldxNE88Vw"
      },
      "execution_count": null,
      "outputs": []
    },
    {
      "cell_type": "code",
      "source": [
        "X_transform = enc.fit_transform(X)\n",
        "model = LinearRegression()\n",
        "model.fit(X_transform, y)"
      ],
      "metadata": {
        "colab": {
          "base_uri": "https://localhost:8080/"
        },
        "id": "gWW-ZcrM8ZIJ",
        "outputId": "cf9c95eb-bf91-42f2-b324-07e9c84cb960"
      },
      "execution_count": null,
      "outputs": [
        {
          "output_type": "execute_result",
          "data": {
            "text/plain": [
              "LinearRegression()"
            ]
          },
          "metadata": {},
          "execution_count": 76
        }
      ]
    },
    {
      "cell_type": "code",
      "source": [
        "from sklearn.model_selection import train_test_split\n",
        "X_train, X_test, y_train, y_test = train_test_split(X_transform, y, test_size=0.33, random_state=42)"
      ],
      "metadata": {
        "id": "EwRH2uZrwNft"
      },
      "execution_count": null,
      "outputs": []
    },
    {
      "cell_type": "code",
      "source": [
        "model.fit(X_train,y_train)"
      ],
      "metadata": {
        "colab": {
          "base_uri": "https://localhost:8080/"
        },
        "id": "QYlXiil75bFS",
        "outputId": "dfc2c0cf-6a0f-4504-8d72-44924baae769"
      },
      "execution_count": null,
      "outputs": [
        {
          "output_type": "execute_result",
          "data": {
            "text/plain": [
              "LinearRegression()"
            ]
          },
          "metadata": {},
          "execution_count": 78
        }
      ]
    },
    {
      "cell_type": "code",
      "source": [
        "y_pred=model.predict(X_test)"
      ],
      "metadata": {
        "id": "gB5bJ4gd6-wX"
      },
      "execution_count": null,
      "outputs": []
    },
    {
      "cell_type": "code",
      "source": [
        "from sklearn import metrics\n",
        "print(metrics.mean_absolute_percentage_error(y_test, y_pred))"
      ],
      "metadata": {
        "id": "e1xTgh1I6hEI",
        "colab": {
          "base_uri": "https://localhost:8080/"
        },
        "outputId": "1278a206-19a1-4f9a-dfc6-9b50a9d330e0"
      },
      "execution_count": null,
      "outputs": [
        {
          "output_type": "stream",
          "name": "stdout",
          "text": [
            "2918489.4904321707\n"
          ]
        }
      ]
    },
    {
      "cell_type": "code",
      "source": [
        "#Usando solo Ordinal encoder\n",
        "enc = make_column_transformer((OrdinalEncoder(),\n",
        "                                        ['sexo', 'evolucion_hosp_ultimo', \"prov_domicilio\"]),\n",
        "                                      (OrdinalEncoder(), ['flag_vacuna']),\n",
        "                                      remainder='passthrough')"
      ],
      "metadata": {
        "id": "xOYJxvTS85zp"
      },
      "execution_count": null,
      "outputs": []
    },
    {
      "cell_type": "code",
      "source": [
        "X_transform = enc.fit_transform(X)\n",
        "model = LinearRegression()\n",
        "model.fit(X_transform, y)\n",
        "from sklearn.model_selection import train_test_split\n",
        "X_train, X_test, y_train, y_test = train_test_split(X_transform, y, test_size=0.33, random_state=42)\n",
        "model.fit(X_train,y_train)\n",
        "y_pred=model.predict(X_test)"
      ],
      "metadata": {
        "id": "MDFZJype81b3"
      },
      "execution_count": null,
      "outputs": []
    },
    {
      "cell_type": "code",
      "source": [
        "print(metrics.mean_absolute_percentage_error(y_test, y_pred))"
      ],
      "metadata": {
        "colab": {
          "base_uri": "https://localhost:8080/"
        },
        "id": "JIUBFrVA-Zeg",
        "outputId": "4d26cce0-1f7f-4e4c-e689-753e4be054cd"
      },
      "execution_count": null,
      "outputs": [
        {
          "output_type": "stream",
          "name": "stdout",
          "text": [
            "0.3124735094123578\n"
          ]
        }
      ]
    },
    {
      "cell_type": "code",
      "source": [
        "import pandas as pd\n",
        "import numpy as np\n",
        "import matplotlib.pyplot as plt\n",
        "import seaborn as sns\n",
        "from sklearn.model_selection import train_test_split\n",
        "from sklearn.feature_selection import chi2 #CHI2\n",
        "from sklearn.preprocessing import StandardScaler #NORMALIZATION\n",
        "from sklearn.feature_selection import SelectKBest #ANOVA\n",
        "from sklearn.discriminant_analysis import LinearDiscriminantAnalysis#LDA"
      ],
      "metadata": {
        "id": "aywbjML3txdf"
      },
      "execution_count": null,
      "outputs": []
    },
    {
      "cell_type": "code",
      "source": [
        "#importamos el dataset \n",
        "#Agregar la columna de la etiqueta\n",
        "#data['Cl'] = data2.cdc_fallecido_covid\n",
        "data2['CLASS'] = data2.cdc_fallecido_covid\n",
        "data2.describe()"
      ],
      "metadata": {
        "id": "Yq4g-erfJuUg",
        "colab": {
          "base_uri": "https://localhost:8080/",
          "height": 393
        },
        "outputId": "968baa7a-439f-4224-b04c-35ddc41a2cef"
      },
      "execution_count": null,
      "outputs": [
        {
          "output_type": "execute_result",
          "data": {
            "text/plain": [
              "         eess_renaes    eess_diresa       eess_red    eess_nombre  \\\n",
              "count  149114.000000  149114.000000  149114.000000  149114.000000   \n",
              "mean     7403.977299      12.997700      28.293406      52.097288   \n",
              "std      7184.030648       7.344255       6.660682      27.379562   \n",
              "min         3.000000       0.000000       0.000000       0.000000   \n",
              "25%      2289.000000       7.000000      30.000000      33.000000   \n",
              "50%      5883.000000      14.000000      30.000000      50.000000   \n",
              "75%      7633.000000      17.000000      30.000000      73.000000   \n",
              "max     28025.000000      28.000000      46.000000     106.000000   \n",
              "\n",
              "             id_eess    id_persona           edad           sexo  \\\n",
              "count  149114.000000  1.491140e+05  149114.000000  149114.000000   \n",
              "mean     7142.586498  1.957571e+07      51.136889       0.549264   \n",
              "std      6665.593050  1.283430e+07      20.544265       0.497569   \n",
              "min         3.000000  1.100000e+01       0.000000       0.000000   \n",
              "25%      2288.000000  7.700870e+06      36.000000       0.000000   \n",
              "50%      5880.000000  1.822007e+07      51.000000       1.000000   \n",
              "75%      7437.000000  3.440050e+07      66.000000       1.000000   \n",
              "max     26275.000000  4.048290e+07     111.000000       1.000000   \n",
              "\n",
              "       fecha_ingreso_hosp       flag_uci  ...   fecha_dosis4  \\\n",
              "count       149114.000000  149114.000000  ...  149114.000000   \n",
              "mean           501.454867       0.132442  ...     235.329889   \n",
              "std            293.057235       0.338972  ...      63.678155   \n",
              "min              0.000000       0.000000  ...       0.000000   \n",
              "25%            246.000000       0.000000  ...     263.000000   \n",
              "50%            501.000000       0.000000  ...     263.000000   \n",
              "75%            756.000000       0.000000  ...     263.000000   \n",
              "max           1012.000000       1.000000  ...     263.000000   \n",
              "\n",
              "       fabricante_dosis4  cdc_positividad  cdc_fecha_fallecido_covid  \\\n",
              "count      149114.000000    149114.000000              149114.000000   \n",
              "mean            1.840283         0.525068                 815.809146   \n",
              "std             0.425462         0.499373                 248.630667   \n",
              "min             0.000000         0.000000                   0.000000   \n",
              "25%             2.000000         0.000000                 911.000000   \n",
              "50%             2.000000         1.000000                 938.000000   \n",
              "75%             2.000000         1.000000                 938.000000   \n",
              "max             4.000000         1.000000                 938.000000   \n",
              "\n",
              "       cdc_fallecido_covid  ubigeo_inei_domicilio  dep_domicilio  \\\n",
              "count        149114.000000          149114.000000  149114.000000   \n",
              "mean              0.257568          126089.989552      11.574145   \n",
              "std               0.437296           59096.339629       5.927218   \n",
              "min               0.000000           10101.000000       0.000000   \n",
              "25%               0.000000           80106.000000       7.000000   \n",
              "50%               0.000000          150104.000000      14.000000   \n",
              "75%               1.000000          150142.000000      14.000000   \n",
              "max               1.000000          250401.000000      24.000000   \n",
              "\n",
              "       prov_domicilio  dist_domicilio          CLASS  \n",
              "count   149114.000000   149114.000000  149114.000000  \n",
              "mean       102.194442      864.707284       0.257568  \n",
              "std         43.305580      491.932163       0.437296  \n",
              "min          0.000000        0.000000       0.000000  \n",
              "25%         72.000000      433.000000       0.000000  \n",
              "50%        112.000000      855.000000       0.000000  \n",
              "75%        112.000000     1294.000000       1.000000  \n",
              "max        195.000000     1594.000000       1.000000  \n",
              "\n",
              "[8 rows x 31 columns]"
            ],
            "text/html": [
              "\n",
              "  <div id=\"df-37a0fc55-6911-4943-8e93-135edb93fa5b\">\n",
              "    <div class=\"colab-df-container\">\n",
              "      <div>\n",
              "<style scoped>\n",
              "    .dataframe tbody tr th:only-of-type {\n",
              "        vertical-align: middle;\n",
              "    }\n",
              "\n",
              "    .dataframe tbody tr th {\n",
              "        vertical-align: top;\n",
              "    }\n",
              "\n",
              "    .dataframe thead th {\n",
              "        text-align: right;\n",
              "    }\n",
              "</style>\n",
              "<table border=\"1\" class=\"dataframe\">\n",
              "  <thead>\n",
              "    <tr style=\"text-align: right;\">\n",
              "      <th></th>\n",
              "      <th>eess_renaes</th>\n",
              "      <th>eess_diresa</th>\n",
              "      <th>eess_red</th>\n",
              "      <th>eess_nombre</th>\n",
              "      <th>id_eess</th>\n",
              "      <th>id_persona</th>\n",
              "      <th>edad</th>\n",
              "      <th>sexo</th>\n",
              "      <th>fecha_ingreso_hosp</th>\n",
              "      <th>flag_uci</th>\n",
              "      <th>...</th>\n",
              "      <th>fecha_dosis4</th>\n",
              "      <th>fabricante_dosis4</th>\n",
              "      <th>cdc_positividad</th>\n",
              "      <th>cdc_fecha_fallecido_covid</th>\n",
              "      <th>cdc_fallecido_covid</th>\n",
              "      <th>ubigeo_inei_domicilio</th>\n",
              "      <th>dep_domicilio</th>\n",
              "      <th>prov_domicilio</th>\n",
              "      <th>dist_domicilio</th>\n",
              "      <th>CLASS</th>\n",
              "    </tr>\n",
              "  </thead>\n",
              "  <tbody>\n",
              "    <tr>\n",
              "      <th>count</th>\n",
              "      <td>149114.000000</td>\n",
              "      <td>149114.000000</td>\n",
              "      <td>149114.000000</td>\n",
              "      <td>149114.000000</td>\n",
              "      <td>149114.000000</td>\n",
              "      <td>1.491140e+05</td>\n",
              "      <td>149114.000000</td>\n",
              "      <td>149114.000000</td>\n",
              "      <td>149114.000000</td>\n",
              "      <td>149114.000000</td>\n",
              "      <td>...</td>\n",
              "      <td>149114.000000</td>\n",
              "      <td>149114.000000</td>\n",
              "      <td>149114.000000</td>\n",
              "      <td>149114.000000</td>\n",
              "      <td>149114.000000</td>\n",
              "      <td>149114.000000</td>\n",
              "      <td>149114.000000</td>\n",
              "      <td>149114.000000</td>\n",
              "      <td>149114.000000</td>\n",
              "      <td>149114.000000</td>\n",
              "    </tr>\n",
              "    <tr>\n",
              "      <th>mean</th>\n",
              "      <td>7403.977299</td>\n",
              "      <td>12.997700</td>\n",
              "      <td>28.293406</td>\n",
              "      <td>52.097288</td>\n",
              "      <td>7142.586498</td>\n",
              "      <td>1.957571e+07</td>\n",
              "      <td>51.136889</td>\n",
              "      <td>0.549264</td>\n",
              "      <td>501.454867</td>\n",
              "      <td>0.132442</td>\n",
              "      <td>...</td>\n",
              "      <td>235.329889</td>\n",
              "      <td>1.840283</td>\n",
              "      <td>0.525068</td>\n",
              "      <td>815.809146</td>\n",
              "      <td>0.257568</td>\n",
              "      <td>126089.989552</td>\n",
              "      <td>11.574145</td>\n",
              "      <td>102.194442</td>\n",
              "      <td>864.707284</td>\n",
              "      <td>0.257568</td>\n",
              "    </tr>\n",
              "    <tr>\n",
              "      <th>std</th>\n",
              "      <td>7184.030648</td>\n",
              "      <td>7.344255</td>\n",
              "      <td>6.660682</td>\n",
              "      <td>27.379562</td>\n",
              "      <td>6665.593050</td>\n",
              "      <td>1.283430e+07</td>\n",
              "      <td>20.544265</td>\n",
              "      <td>0.497569</td>\n",
              "      <td>293.057235</td>\n",
              "      <td>0.338972</td>\n",
              "      <td>...</td>\n",
              "      <td>63.678155</td>\n",
              "      <td>0.425462</td>\n",
              "      <td>0.499373</td>\n",
              "      <td>248.630667</td>\n",
              "      <td>0.437296</td>\n",
              "      <td>59096.339629</td>\n",
              "      <td>5.927218</td>\n",
              "      <td>43.305580</td>\n",
              "      <td>491.932163</td>\n",
              "      <td>0.437296</td>\n",
              "    </tr>\n",
              "    <tr>\n",
              "      <th>min</th>\n",
              "      <td>3.000000</td>\n",
              "      <td>0.000000</td>\n",
              "      <td>0.000000</td>\n",
              "      <td>0.000000</td>\n",
              "      <td>3.000000</td>\n",
              "      <td>1.100000e+01</td>\n",
              "      <td>0.000000</td>\n",
              "      <td>0.000000</td>\n",
              "      <td>0.000000</td>\n",
              "      <td>0.000000</td>\n",
              "      <td>...</td>\n",
              "      <td>0.000000</td>\n",
              "      <td>0.000000</td>\n",
              "      <td>0.000000</td>\n",
              "      <td>0.000000</td>\n",
              "      <td>0.000000</td>\n",
              "      <td>10101.000000</td>\n",
              "      <td>0.000000</td>\n",
              "      <td>0.000000</td>\n",
              "      <td>0.000000</td>\n",
              "      <td>0.000000</td>\n",
              "    </tr>\n",
              "    <tr>\n",
              "      <th>25%</th>\n",
              "      <td>2289.000000</td>\n",
              "      <td>7.000000</td>\n",
              "      <td>30.000000</td>\n",
              "      <td>33.000000</td>\n",
              "      <td>2288.000000</td>\n",
              "      <td>7.700870e+06</td>\n",
              "      <td>36.000000</td>\n",
              "      <td>0.000000</td>\n",
              "      <td>246.000000</td>\n",
              "      <td>0.000000</td>\n",
              "      <td>...</td>\n",
              "      <td>263.000000</td>\n",
              "      <td>2.000000</td>\n",
              "      <td>0.000000</td>\n",
              "      <td>911.000000</td>\n",
              "      <td>0.000000</td>\n",
              "      <td>80106.000000</td>\n",
              "      <td>7.000000</td>\n",
              "      <td>72.000000</td>\n",
              "      <td>433.000000</td>\n",
              "      <td>0.000000</td>\n",
              "    </tr>\n",
              "    <tr>\n",
              "      <th>50%</th>\n",
              "      <td>5883.000000</td>\n",
              "      <td>14.000000</td>\n",
              "      <td>30.000000</td>\n",
              "      <td>50.000000</td>\n",
              "      <td>5880.000000</td>\n",
              "      <td>1.822007e+07</td>\n",
              "      <td>51.000000</td>\n",
              "      <td>1.000000</td>\n",
              "      <td>501.000000</td>\n",
              "      <td>0.000000</td>\n",
              "      <td>...</td>\n",
              "      <td>263.000000</td>\n",
              "      <td>2.000000</td>\n",
              "      <td>1.000000</td>\n",
              "      <td>938.000000</td>\n",
              "      <td>0.000000</td>\n",
              "      <td>150104.000000</td>\n",
              "      <td>14.000000</td>\n",
              "      <td>112.000000</td>\n",
              "      <td>855.000000</td>\n",
              "      <td>0.000000</td>\n",
              "    </tr>\n",
              "    <tr>\n",
              "      <th>75%</th>\n",
              "      <td>7633.000000</td>\n",
              "      <td>17.000000</td>\n",
              "      <td>30.000000</td>\n",
              "      <td>73.000000</td>\n",
              "      <td>7437.000000</td>\n",
              "      <td>3.440050e+07</td>\n",
              "      <td>66.000000</td>\n",
              "      <td>1.000000</td>\n",
              "      <td>756.000000</td>\n",
              "      <td>0.000000</td>\n",
              "      <td>...</td>\n",
              "      <td>263.000000</td>\n",
              "      <td>2.000000</td>\n",
              "      <td>1.000000</td>\n",
              "      <td>938.000000</td>\n",
              "      <td>1.000000</td>\n",
              "      <td>150142.000000</td>\n",
              "      <td>14.000000</td>\n",
              "      <td>112.000000</td>\n",
              "      <td>1294.000000</td>\n",
              "      <td>1.000000</td>\n",
              "    </tr>\n",
              "    <tr>\n",
              "      <th>max</th>\n",
              "      <td>28025.000000</td>\n",
              "      <td>28.000000</td>\n",
              "      <td>46.000000</td>\n",
              "      <td>106.000000</td>\n",
              "      <td>26275.000000</td>\n",
              "      <td>4.048290e+07</td>\n",
              "      <td>111.000000</td>\n",
              "      <td>1.000000</td>\n",
              "      <td>1012.000000</td>\n",
              "      <td>1.000000</td>\n",
              "      <td>...</td>\n",
              "      <td>263.000000</td>\n",
              "      <td>4.000000</td>\n",
              "      <td>1.000000</td>\n",
              "      <td>938.000000</td>\n",
              "      <td>1.000000</td>\n",
              "      <td>250401.000000</td>\n",
              "      <td>24.000000</td>\n",
              "      <td>195.000000</td>\n",
              "      <td>1594.000000</td>\n",
              "      <td>1.000000</td>\n",
              "    </tr>\n",
              "  </tbody>\n",
              "</table>\n",
              "<p>8 rows × 31 columns</p>\n",
              "</div>\n",
              "      <button class=\"colab-df-convert\" onclick=\"convertToInteractive('df-37a0fc55-6911-4943-8e93-135edb93fa5b')\"\n",
              "              title=\"Convert this dataframe to an interactive table.\"\n",
              "              style=\"display:none;\">\n",
              "        \n",
              "  <svg xmlns=\"http://www.w3.org/2000/svg\" height=\"24px\"viewBox=\"0 0 24 24\"\n",
              "       width=\"24px\">\n",
              "    <path d=\"M0 0h24v24H0V0z\" fill=\"none\"/>\n",
              "    <path d=\"M18.56 5.44l.94 2.06.94-2.06 2.06-.94-2.06-.94-.94-2.06-.94 2.06-2.06.94zm-11 1L8.5 8.5l.94-2.06 2.06-.94-2.06-.94L8.5 2.5l-.94 2.06-2.06.94zm10 10l.94 2.06.94-2.06 2.06-.94-2.06-.94-.94-2.06-.94 2.06-2.06.94z\"/><path d=\"M17.41 7.96l-1.37-1.37c-.4-.4-.92-.59-1.43-.59-.52 0-1.04.2-1.43.59L10.3 9.45l-7.72 7.72c-.78.78-.78 2.05 0 2.83L4 21.41c.39.39.9.59 1.41.59.51 0 1.02-.2 1.41-.59l7.78-7.78 2.81-2.81c.8-.78.8-2.07 0-2.86zM5.41 20L4 18.59l7.72-7.72 1.47 1.35L5.41 20z\"/>\n",
              "  </svg>\n",
              "      </button>\n",
              "      \n",
              "  <style>\n",
              "    .colab-df-container {\n",
              "      display:flex;\n",
              "      flex-wrap:wrap;\n",
              "      gap: 12px;\n",
              "    }\n",
              "\n",
              "    .colab-df-convert {\n",
              "      background-color: #E8F0FE;\n",
              "      border: none;\n",
              "      border-radius: 50%;\n",
              "      cursor: pointer;\n",
              "      display: none;\n",
              "      fill: #1967D2;\n",
              "      height: 32px;\n",
              "      padding: 0 0 0 0;\n",
              "      width: 32px;\n",
              "    }\n",
              "\n",
              "    .colab-df-convert:hover {\n",
              "      background-color: #E2EBFA;\n",
              "      box-shadow: 0px 1px 2px rgba(60, 64, 67, 0.3), 0px 1px 3px 1px rgba(60, 64, 67, 0.15);\n",
              "      fill: #174EA6;\n",
              "    }\n",
              "\n",
              "    [theme=dark] .colab-df-convert {\n",
              "      background-color: #3B4455;\n",
              "      fill: #D2E3FC;\n",
              "    }\n",
              "\n",
              "    [theme=dark] .colab-df-convert:hover {\n",
              "      background-color: #434B5C;\n",
              "      box-shadow: 0px 1px 3px 1px rgba(0, 0, 0, 0.15);\n",
              "      filter: drop-shadow(0px 1px 2px rgba(0, 0, 0, 0.3));\n",
              "      fill: #FFFFFF;\n",
              "    }\n",
              "  </style>\n",
              "\n",
              "      <script>\n",
              "        const buttonEl =\n",
              "          document.querySelector('#df-37a0fc55-6911-4943-8e93-135edb93fa5b button.colab-df-convert');\n",
              "        buttonEl.style.display =\n",
              "          google.colab.kernel.accessAllowed ? 'block' : 'none';\n",
              "\n",
              "        async function convertToInteractive(key) {\n",
              "          const element = document.querySelector('#df-37a0fc55-6911-4943-8e93-135edb93fa5b');\n",
              "          const dataTable =\n",
              "            await google.colab.kernel.invokeFunction('convertToInteractive',\n",
              "                                                     [key], {});\n",
              "          if (!dataTable) return;\n",
              "\n",
              "          const docLinkHtml = 'Like what you see? Visit the ' +\n",
              "            '<a target=\"_blank\" href=https://colab.research.google.com/notebooks/data_table.ipynb>data table notebook</a>'\n",
              "            + ' to learn more about interactive tables.';\n",
              "          element.innerHTML = '';\n",
              "          dataTable['output_type'] = 'display_data';\n",
              "          await google.colab.output.renderOutput(dataTable, element);\n",
              "          const docLink = document.createElement('div');\n",
              "          docLink.innerHTML = docLinkHtml;\n",
              "          element.appendChild(docLink);\n",
              "        }\n",
              "      </script>\n",
              "    </div>\n",
              "  </div>\n",
              "  "
            ]
          },
          "metadata": {},
          "execution_count": 85
        }
      ]
    },
    {
      "cell_type": "code",
      "source": [
        "data2['CLASS'].plot.hist()"
      ],
      "metadata": {
        "colab": {
          "base_uri": "https://localhost:8080/",
          "height": 283
        },
        "id": "gB6hlPO3K4BW",
        "outputId": "483ef244-7df4-4496-978e-ac62a970046b"
      },
      "execution_count": null,
      "outputs": [
        {
          "output_type": "execute_result",
          "data": {
            "text/plain": [
              "<matplotlib.axes._subplots.AxesSubplot at 0x7f3dec4f6790>"
            ]
          },
          "metadata": {},
          "execution_count": 86
        },
        {
          "output_type": "display_data",
          "data": {
            "text/plain": [
              "<Figure size 432x288 with 1 Axes>"
            ],
            "image/png": "[encoded data removed]"
          },
          "metadata": {
            "needs_background": "light"
          }
        }
      ]
    },
    {
      "cell_type": "code",
      "source": [
        "# Separamos los datos de entrenamiento de los de test\n",
        "X_train, X_test, y_train, y_test = train_test_split(data2.drop('CLASS', axis=1),\n",
        "                                                    data2['CLASS'],\n",
        "                                                    test_size=0.3,\n",
        "                                                    random_state=0)\n",
        "\n",
        "X_train.shape, X_test.shape"
      ],
      "metadata": {
        "colab": {
          "base_uri": "https://localhost:8080/"
        },
        "id": "qmLvcdK_LrCf",
        "outputId": "1f135473-c015-4064-fa52-50345254dc32"
      },
      "execution_count": null,
      "outputs": [
        {
          "output_type": "execute_result",
          "data": {
            "text/plain": [
              "((104379, 30), (44735, 30))"
            ]
          },
          "metadata": {},
          "execution_count": 87
        }
      ]
    },
    {
      "cell_type": "code",
      "source": [
        "# Hallamos la media de los datos de entrenamiento\n",
        "means = (X_train.mean(axis=0))\n",
        "means"
      ],
      "metadata": {
        "colab": {
          "base_uri": "https://localhost:8080/"
        },
        "id": "ngG5MLyHOK9Y",
        "outputId": "956d972e-7026-4469-82d4-825059d86407"
      },
      "execution_count": null,
      "outputs": [
        {
          "output_type": "execute_result",
          "data": {
            "text/plain": [
              "eess_renaes                     7.415533e+03\n",
              "eess_diresa                     1.298521e+01\n",
              "eess_red                        2.828474e+01\n",
              "eess_nombre                     5.212128e+01\n",
              "id_eess                         7.153317e+03\n",
              "id_persona                      1.952880e+07\n",
              "edad                            5.109902e+01\n",
              "sexo                            5.489323e-01\n",
              "fecha_ingreso_hosp              5.007408e+02\n",
              "flag_uci                        1.323734e-01\n",
              "con_oxigeno                     6.660918e-01\n",
              "con_ventilacion                 9.020972e-02\n",
              "fecha_segumiento_hosp_ultimo    4.973964e+02\n",
              "evolucion_hosp_ultimo           1.648358e+00\n",
              "flag_vacuna                     1.948390e+00\n",
              "fecha_dosis1                    4.597983e+02\n",
              "fabricante_dosis1               2.725864e+00\n",
              "fecha_dosis2                    4.543788e+02\n",
              "fabricante_dosis2               2.702095e+00\n",
              "fecha_dosis3                    3.254516e+02\n",
              "fabricante_dosis3               2.256239e+00\n",
              "fecha_dosis4                    2.353148e+02\n",
              "fabricante_dosis4               1.840725e+00\n",
              "cdc_positividad                 5.266577e-01\n",
              "cdc_fecha_fallecido_covid       8.161088e+02\n",
              "cdc_fallecido_covid             2.568045e-01\n",
              "ubigeo_inei_domicilio           1.259603e+05\n",
              "dep_domicilio                   1.156106e+01\n",
              "prov_domicilio                  1.022687e+02\n",
              "dist_domicilio                  8.654586e+02\n",
              "dtype: float64"
            ]
          },
          "metadata": {},
          "execution_count": 88
        }
      ]
    },
    {
      "cell_type": "code",
      "source": [
        "#identificamos el valor min y max de los datos de entrenmiento\n",
        "ranges = X_train.max(axis=0)-X_train.min(axis=0)\n",
        "ranges"
      ],
      "metadata": {
        "colab": {
          "base_uri": "https://localhost:8080/"
        },
        "id": "ygAVbWOWOnj2",
        "outputId": "f9126613-53f0-4c43-e7c9-fe3ee92eed44"
      },
      "execution_count": null,
      "outputs": [
        {
          "output_type": "execute_result",
          "data": {
            "text/plain": [
              "eess_renaes                        28022.0\n",
              "eess_diresa                           28.0\n",
              "eess_red                              46.0\n",
              "eess_nombre                          106.0\n",
              "id_eess                            26272.0\n",
              "id_persona                      40482804.0\n",
              "edad                                 111.0\n",
              "sexo                                   1.0\n",
              "fecha_ingreso_hosp                  1012.0\n",
              "flag_uci                               1.0\n",
              "con_oxigeno                            1.0\n",
              "con_ventilacion                        1.0\n",
              "fecha_segumiento_hosp_ultimo        1005.0\n",
              "evolucion_hosp_ultimo                  7.0\n",
              "flag_vacuna                            4.0\n",
              "fecha_dosis1                         673.0\n",
              "fabricante_dosis1                      4.0\n",
              "fecha_dosis2                         649.0\n",
              "fabricante_dosis2                      4.0\n",
              "fecha_dosis3                         433.0\n",
              "fabricante_dosis3                      4.0\n",
              "fecha_dosis4                         263.0\n",
              "fabricante_dosis4                      4.0\n",
              "cdc_positividad                        1.0\n",
              "cdc_fecha_fallecido_covid            938.0\n",
              "cdc_fallecido_covid                    1.0\n",
              "ubigeo_inei_domicilio             240300.0\n",
              "dep_domicilio                         24.0\n",
              "prov_domicilio                       195.0\n",
              "dist_domicilio                      1594.0\n",
              "dtype: float64"
            ]
          },
          "metadata": {},
          "execution_count": 89
        }
      ]
    },
    {
      "cell_type": "code",
      "source": [
        "# Ahora normalizamos:\n",
        "X_train_scaled = (X_train - means) / ranges\n",
        "X_test_scaled = (X_test - means) / ranges"
      ],
      "metadata": {
        "id": "LOgc4lpVOog2"
      },
      "execution_count": null,
      "outputs": []
    },
    {
      "cell_type": "code",
      "source": [
        "\n",
        "fig, (ax1, ax2) = plt.subplots(ncols=2, figsize=(12, 5))\n",
        "\n",
        "# Antes\n",
        "ax1.set_title('Antes del escalado')\n",
        "sns.kdeplot(X_train['edad'], ax=ax1)\n",
        "sns.kdeplot(X_train['sexo'], ax=ax1)\n",
        "sns.kdeplot(X_train['evolucion_hosp_ultimo'], ax=ax1)\n",
        "sns.kdeplot(X_train['cdc_fallecido_covid'], ax=ax1)\n",
        "\n",
        "# Despues\n",
        "ax2.set_title('Despues de la normalizacion')\n",
        "sns.kdeplot(X_train_scaled['edad'], ax=ax2)\n",
        "sns.kdeplot(X_train_scaled['sexo'], ax=ax2)\n",
        "sns.kdeplot(X_train_scaled['evolucion_hosp_ultimo'], ax=ax2)\n",
        "sns.kdeplot(X_train_scaled['cdc_fallecido_covid'], ax=ax2)\n",
        "plt.show()"
      ],
      "metadata": {
        "colab": {
          "base_uri": "https://localhost:8080/",
          "height": 350
        },
        "id": "3p2gW_JCOw4m",
        "outputId": "d0ea6dbd-c08c-444f-ca30-3775e74885df"
      },
      "execution_count": null,
      "outputs": [
        {
          "output_type": "display_data",
          "data": {
            "text/plain": [
              "<Figure size 864x360 with 2 Axes>"
            ],
            "image/png": "[encoded data removed]"
          },
          "metadata": {
            "needs_background": "light"
          }
        }
      ]
    },
    {
      "cell_type": "code",
      "source": [
        "np.round(X_train_scaled.describe(include=\"all\"), 1)"
      ],
      "metadata": {
        "colab": {
          "base_uri": "https://localhost:8080/",
          "height": 393
        },
        "id": "z5hh4H83uxAg",
        "outputId": "ca2899b7-b664-4038-ad99-fa9febabd6ca"
      },
      "execution_count": null,
      "outputs": [
        {
          "output_type": "execute_result",
          "data": {
            "text/plain": [
              "       eess_renaes  eess_diresa  eess_red  eess_nombre   id_eess  id_persona  \\\n",
              "count     104379.0     104379.0  104379.0     104379.0  104379.0    104379.0   \n",
              "mean          -0.0         -0.0      -0.0          0.0      -0.0         0.0   \n",
              "std            0.3          0.3       0.1          0.3       0.3         0.3   \n",
              "min           -0.3         -0.5      -0.6         -0.5      -0.3        -0.5   \n",
              "25%           -0.2         -0.2       0.0         -0.2      -0.2        -0.3   \n",
              "50%           -0.1          0.0       0.0         -0.0      -0.0        -0.0   \n",
              "75%            0.0          0.1       0.0          0.2       0.0         0.4   \n",
              "max            0.7          0.5       0.4          0.5       0.7         0.5   \n",
              "\n",
              "           edad      sexo  fecha_ingreso_hosp  flag_uci  ...  \\\n",
              "count  104379.0  104379.0            104379.0  104379.0  ...   \n",
              "mean        0.0       0.0                 0.0      -0.0  ...   \n",
              "std         0.2       0.5                 0.3       0.3  ...   \n",
              "min        -0.5      -0.5                -0.5      -0.1  ...   \n",
              "25%        -0.1      -0.5                -0.3      -0.1  ...   \n",
              "50%        -0.0       0.5                 0.0      -0.1  ...   \n",
              "75%         0.1       0.5                 0.3      -0.1  ...   \n",
              "max         0.5       0.5                 0.5       0.9  ...   \n",
              "\n",
              "       fabricante_dosis3  fecha_dosis4  fabricante_dosis4  cdc_positividad  \\\n",
              "count           104379.0      104379.0           104379.0         104379.0   \n",
              "mean                -0.0          -0.0                0.0              0.0   \n",
              "std                  0.2           0.2                0.1              0.5   \n",
              "min                 -0.6          -0.9               -0.5             -0.5   \n",
              "25%                 -0.1           0.1                0.0             -0.5   \n",
              "50%                 -0.1           0.1                0.0              0.5   \n",
              "75%                  0.2           0.1                0.0              0.5   \n",
              "max                  0.4           0.1                0.5              0.5   \n",
              "\n",
              "       cdc_fecha_fallecido_covid  cdc_fallecido_covid  ubigeo_inei_domicilio  \\\n",
              "count                   104379.0             104379.0               104379.0   \n",
              "mean                         0.0                 -0.0                   -0.0   \n",
              "std                          0.3                  0.4                    0.2   \n",
              "min                         -0.9                 -0.3                   -0.5   \n",
              "25%                          0.1                 -0.3                   -0.2   \n",
              "50%                          0.1                 -0.3                    0.1   \n",
              "75%                          0.1                  0.7                    0.1   \n",
              "max                          0.1                  0.7                    0.5   \n",
              "\n",
              "       dep_domicilio  prov_domicilio  dist_domicilio  \n",
              "count       104379.0        104379.0        104379.0  \n",
              "mean             0.0            -0.0             0.0  \n",
              "std              0.2             0.2             0.3  \n",
              "min             -0.5            -0.5            -0.5  \n",
              "25%             -0.2            -0.2            -0.3  \n",
              "50%              0.1             0.0            -0.0  \n",
              "75%              0.1             0.0             0.3  \n",
              "max              0.5             0.5             0.5  \n",
              "\n",
              "[8 rows x 30 columns]"
            ],
            "text/html": [
              "\n",
              "  <div id=\"df-a614d861-b496-47e3-b5d2-e77e434bdd7d\">\n",
              "    <div class=\"colab-df-container\">\n",
              "      <div>\n",
              "<style scoped>\n",
              "    .dataframe tbody tr th:only-of-type {\n",
              "        vertical-align: middle;\n",
              "    }\n",
              "\n",
              "    .dataframe tbody tr th {\n",
              "        vertical-align: top;\n",
              "    }\n",
              "\n",
              "    .dataframe thead th {\n",
              "        text-align: right;\n",
              "    }\n",
              "</style>\n",
              "<table border=\"1\" class=\"dataframe\">\n",
              "  <thead>\n",
              "    <tr style=\"text-align: right;\">\n",
              "      <th></th>\n",
              "      <th>eess_renaes</th>\n",
              "      <th>eess_diresa</th>\n",
              "      <th>eess_red</th>\n",
              "      <th>eess_nombre</th>\n",
              "      <th>id_eess</th>\n",
              "      <th>id_persona</th>\n",
              "      <th>edad</th>\n",
              "      <th>sexo</th>\n",
              "      <th>fecha_ingreso_hosp</th>\n",
              "      <th>flag_uci</th>\n",
              "      <th>...</th>\n",
              "      <th>fabricante_dosis3</th>\n",
              "      <th>fecha_dosis4</th>\n",
              "      <th>fabricante_dosis4</th>\n",
              "      <th>cdc_positividad</th>\n",
              "      <th>cdc_fecha_fallecido_covid</th>\n",
              "      <th>cdc_fallecido_covid</th>\n",
              "      <th>ubigeo_inei_domicilio</th>\n",
              "      <th>dep_domicilio</th>\n",
              "      <th>prov_domicilio</th>\n",
              "      <th>dist_domicilio</th>\n",
              "    </tr>\n",
              "  </thead>\n",
              "  <tbody>\n",
              "    <tr>\n",
              "      <th>count</th>\n",
              "      <td>104379.0</td>\n",
              "      <td>104379.0</td>\n",
              "      <td>104379.0</td>\n",
              "      <td>104379.0</td>\n",
              "      <td>104379.0</td>\n",
              "      <td>104379.0</td>\n",
              "      <td>104379.0</td>\n",
              "      <td>104379.0</td>\n",
              "      <td>104379.0</td>\n",
              "      <td>104379.0</td>\n",
              "      <td>...</td>\n",
              "      <td>104379.0</td>\n",
              "      <td>104379.0</td>\n",
              "      <td>104379.0</td>\n",
              "      <td>104379.0</td>\n",
              "      <td>104379.0</td>\n",
              "      <td>104379.0</td>\n",
              "      <td>104379.0</td>\n",
              "      <td>104379.0</td>\n",
              "      <td>104379.0</td>\n",
              "      <td>104379.0</td>\n",
              "    </tr>\n",
              "    <tr>\n",
              "      <th>mean</th>\n",
              "      <td>-0.0</td>\n",
              "      <td>-0.0</td>\n",
              "      <td>-0.0</td>\n",
              "      <td>0.0</td>\n",
              "      <td>-0.0</td>\n",
              "      <td>0.0</td>\n",
              "      <td>0.0</td>\n",
              "      <td>0.0</td>\n",
              "      <td>0.0</td>\n",
              "      <td>-0.0</td>\n",
              "      <td>...</td>\n",
              "      <td>-0.0</td>\n",
              "      <td>-0.0</td>\n",
              "      <td>0.0</td>\n",
              "      <td>0.0</td>\n",
              "      <td>0.0</td>\n",
              "      <td>-0.0</td>\n",
              "      <td>-0.0</td>\n",
              "      <td>0.0</td>\n",
              "      <td>-0.0</td>\n",
              "      <td>0.0</td>\n",
              "    </tr>\n",
              "    <tr>\n",
              "      <th>std</th>\n",
              "      <td>0.3</td>\n",
              "      <td>0.3</td>\n",
              "      <td>0.1</td>\n",
              "      <td>0.3</td>\n",
              "      <td>0.3</td>\n",
              "      <td>0.3</td>\n",
              "      <td>0.2</td>\n",
              "      <td>0.5</td>\n",
              "      <td>0.3</td>\n",
              "      <td>0.3</td>\n",
              "      <td>...</td>\n",
              "      <td>0.2</td>\n",
              "      <td>0.2</td>\n",
              "      <td>0.1</td>\n",
              "      <td>0.5</td>\n",
              "      <td>0.3</td>\n",
              "      <td>0.4</td>\n",
              "      <td>0.2</td>\n",
              "      <td>0.2</td>\n",
              "      <td>0.2</td>\n",
              "      <td>0.3</td>\n",
              "    </tr>\n",
              "    <tr>\n",
              "      <th>min</th>\n",
              "      <td>-0.3</td>\n",
              "      <td>-0.5</td>\n",
              "      <td>-0.6</td>\n",
              "      <td>-0.5</td>\n",
              "      <td>-0.3</td>\n",
              "      <td>-0.5</td>\n",
              "      <td>-0.5</td>\n",
              "      <td>-0.5</td>\n",
              "      <td>-0.5</td>\n",
              "      <td>-0.1</td>\n",
              "      <td>...</td>\n",
              "      <td>-0.6</td>\n",
              "      <td>-0.9</td>\n",
              "      <td>-0.5</td>\n",
              "      <td>-0.5</td>\n",
              "      <td>-0.9</td>\n",
              "      <td>-0.3</td>\n",
              "      <td>-0.5</td>\n",
              "      <td>-0.5</td>\n",
              "      <td>-0.5</td>\n",
              "      <td>-0.5</td>\n",
              "    </tr>\n",
              "    <tr>\n",
              "      <th>25%</th>\n",
              "      <td>-0.2</td>\n",
              "      <td>-0.2</td>\n",
              "      <td>0.0</td>\n",
              "      <td>-0.2</td>\n",
              "      <td>-0.2</td>\n",
              "      <td>-0.3</td>\n",
              "      <td>-0.1</td>\n",
              "      <td>-0.5</td>\n",
              "      <td>-0.3</td>\n",
              "      <td>-0.1</td>\n",
              "      <td>...</td>\n",
              "      <td>-0.1</td>\n",
              "      <td>0.1</td>\n",
              "      <td>0.0</td>\n",
              "      <td>-0.5</td>\n",
              "      <td>0.1</td>\n",
              "      <td>-0.3</td>\n",
              "      <td>-0.2</td>\n",
              "      <td>-0.2</td>\n",
              "      <td>-0.2</td>\n",
              "      <td>-0.3</td>\n",
              "    </tr>\n",
              "    <tr>\n",
              "      <th>50%</th>\n",
              "      <td>-0.1</td>\n",
              "      <td>0.0</td>\n",
              "      <td>0.0</td>\n",
              "      <td>-0.0</td>\n",
              "      <td>-0.0</td>\n",
              "      <td>-0.0</td>\n",
              "      <td>-0.0</td>\n",
              "      <td>0.5</td>\n",
              "      <td>0.0</td>\n",
              "      <td>-0.1</td>\n",
              "      <td>...</td>\n",
              "      <td>-0.1</td>\n",
              "      <td>0.1</td>\n",
              "      <td>0.0</td>\n",
              "      <td>0.5</td>\n",
              "      <td>0.1</td>\n",
              "      <td>-0.3</td>\n",
              "      <td>0.1</td>\n",
              "      <td>0.1</td>\n",
              "      <td>0.0</td>\n",
              "      <td>-0.0</td>\n",
              "    </tr>\n",
              "    <tr>\n",
              "      <th>75%</th>\n",
              "      <td>0.0</td>\n",
              "      <td>0.1</td>\n",
              "      <td>0.0</td>\n",
              "      <td>0.2</td>\n",
              "      <td>0.0</td>\n",
              "      <td>0.4</td>\n",
              "      <td>0.1</td>\n",
              "      <td>0.5</td>\n",
              "      <td>0.3</td>\n",
              "      <td>-0.1</td>\n",
              "      <td>...</td>\n",
              "      <td>0.2</td>\n",
              "      <td>0.1</td>\n",
              "      <td>0.0</td>\n",
              "      <td>0.5</td>\n",
              "      <td>0.1</td>\n",
              "      <td>0.7</td>\n",
              "      <td>0.1</td>\n",
              "      <td>0.1</td>\n",
              "      <td>0.0</td>\n",
              "      <td>0.3</td>\n",
              "    </tr>\n",
              "    <tr>\n",
              "      <th>max</th>\n",
              "      <td>0.7</td>\n",
              "      <td>0.5</td>\n",
              "      <td>0.4</td>\n",
              "      <td>0.5</td>\n",
              "      <td>0.7</td>\n",
              "      <td>0.5</td>\n",
              "      <td>0.5</td>\n",
              "      <td>0.5</td>\n",
              "      <td>0.5</td>\n",
              "      <td>0.9</td>\n",
              "      <td>...</td>\n",
              "      <td>0.4</td>\n",
              "      <td>0.1</td>\n",
              "      <td>0.5</td>\n",
              "      <td>0.5</td>\n",
              "      <td>0.1</td>\n",
              "      <td>0.7</td>\n",
              "      <td>0.5</td>\n",
              "      <td>0.5</td>\n",
              "      <td>0.5</td>\n",
              "      <td>0.5</td>\n",
              "    </tr>\n",
              "  </tbody>\n",
              "</table>\n",
              "<p>8 rows × 30 columns</p>\n",
              "</div>\n",
              "      <button class=\"colab-df-convert\" onclick=\"convertToInteractive('df-a614d861-b496-47e3-b5d2-e77e434bdd7d')\"\n",
              "              title=\"Convert this dataframe to an interactive table.\"\n",
              "              style=\"display:none;\">\n",
              "        \n",
              "  <svg xmlns=\"http://www.w3.org/2000/svg\" height=\"24px\"viewBox=\"0 0 24 24\"\n",
              "       width=\"24px\">\n",
              "    <path d=\"M0 0h24v24H0V0z\" fill=\"none\"/>\n",
              "    <path d=\"M18.56 5.44l.94 2.06.94-2.06 2.06-.94-2.06-.94-.94-2.06-.94 2.06-2.06.94zm-11 1L8.5 8.5l.94-2.06 2.06-.94-2.06-.94L8.5 2.5l-.94 2.06-2.06.94zm10 10l.94 2.06.94-2.06 2.06-.94-2.06-.94-.94-2.06-.94 2.06-2.06.94z\"/><path d=\"M17.41 7.96l-1.37-1.37c-.4-.4-.92-.59-1.43-.59-.52 0-1.04.2-1.43.59L10.3 9.45l-7.72 7.72c-.78.78-.78 2.05 0 2.83L4 21.41c.39.39.9.59 1.41.59.51 0 1.02-.2 1.41-.59l7.78-7.78 2.81-2.81c.8-.78.8-2.07 0-2.86zM5.41 20L4 18.59l7.72-7.72 1.47 1.35L5.41 20z\"/>\n",
              "  </svg>\n",
              "      </button>\n",
              "      \n",
              "  <style>\n",
              "    .colab-df-container {\n",
              "      display:flex;\n",
              "      flex-wrap:wrap;\n",
              "      gap: 12px;\n",
              "    }\n",
              "\n",
              "    .colab-df-convert {\n",
              "      background-color: #E8F0FE;\n",
              "      border: none;\n",
              "      border-radius: 50%;\n",
              "      cursor: pointer;\n",
              "      display: none;\n",
              "      fill: #1967D2;\n",
              "      height: 32px;\n",
              "      padding: 0 0 0 0;\n",
              "      width: 32px;\n",
              "    }\n",
              "\n",
              "    .colab-df-convert:hover {\n",
              "      background-color: #E2EBFA;\n",
              "      box-shadow: 0px 1px 2px rgba(60, 64, 67, 0.3), 0px 1px 3px 1px rgba(60, 64, 67, 0.15);\n",
              "      fill: #174EA6;\n",
              "    }\n",
              "\n",
              "    [theme=dark] .colab-df-convert {\n",
              "      background-color: #3B4455;\n",
              "      fill: #D2E3FC;\n",
              "    }\n",
              "\n",
              "    [theme=dark] .colab-df-convert:hover {\n",
              "      background-color: #434B5C;\n",
              "      box-shadow: 0px 1px 3px 1px rgba(0, 0, 0, 0.15);\n",
              "      filter: drop-shadow(0px 1px 2px rgba(0, 0, 0, 0.3));\n",
              "      fill: #FFFFFF;\n",
              "    }\n",
              "  </style>\n",
              "\n",
              "      <script>\n",
              "        const buttonEl =\n",
              "          document.querySelector('#df-a614d861-b496-47e3-b5d2-e77e434bdd7d button.colab-df-convert');\n",
              "        buttonEl.style.display =\n",
              "          google.colab.kernel.accessAllowed ? 'block' : 'none';\n",
              "\n",
              "        async function convertToInteractive(key) {\n",
              "          const element = document.querySelector('#df-a614d861-b496-47e3-b5d2-e77e434bdd7d');\n",
              "          const dataTable =\n",
              "            await google.colab.kernel.invokeFunction('convertToInteractive',\n",
              "                                                     [key], {});\n",
              "          if (!dataTable) return;\n",
              "\n",
              "          const docLinkHtml = 'Like what you see? Visit the ' +\n",
              "            '<a target=\"_blank\" href=https://colab.research.google.com/notebooks/data_table.ipynb>data table notebook</a>'\n",
              "            + ' to learn more about interactive tables.';\n",
              "          element.innerHTML = '';\n",
              "          dataTable['output_type'] = 'display_data';\n",
              "          await google.colab.output.renderOutput(dataTable, element);\n",
              "          const docLink = document.createElement('div');\n",
              "          docLink.innerHTML = docLinkHtml;\n",
              "          element.appendChild(docLink);\n",
              "        }\n",
              "      </script>\n",
              "    </div>\n",
              "  </div>\n",
              "  "
            ]
          },
          "metadata": {},
          "execution_count": 92
        }
      ]
    },
    {
      "cell_type": "markdown",
      "source": [
        "## **REGRESION**"
      ],
      "metadata": {
        "id": "1lS0NRe4q73t"
      }
    },
    {
      "cell_type": "code",
      "execution_count": null,
      "metadata": {
        "id": "Pb3mRvEFZNNO"
      },
      "outputs": [],
      "source": [
        "import numpy as np\n",
        "import matplotlib.pyplot as plt\n",
        "from sklearn import datasets\n",
        "import pandas as pd\n",
        "from pandas.core.sorting import decons_obs_group_ids\n",
        "import seaborn as sns\n",
        "from tqdm import tqdm \n",
        "from sklearn.model_selection import train_test_split\n",
        "from sklearn.linear_model import LinearRegression"
      ]
    },
    {
      "cell_type": "code",
      "source": [
        "df = data2 #dataset\n",
        "\n",
        "df_binary = df[['edad', 'cdc_fallecido_covid']] \n",
        "df_binary.columns = ['edad', 'cdc_fallecido_covid']\n",
        "df_binary.head()"
      ],
      "metadata": {
        "colab": {
          "base_uri": "https://localhost:8080/",
          "height": 206
        },
        "id": "E-cEVqB7eJ5i",
        "outputId": "c79b78b1-34c0-4846-a1c0-e8ad1ec5e12c"
      },
      "execution_count": null,
      "outputs": [
        {
          "output_type": "execute_result",
          "data": {
            "text/plain": [
              "   edad  cdc_fallecido_covid\n",
              "0   3.0                    0\n",
              "1  27.0                    0\n",
              "2  27.0                    0\n",
              "3  72.0                    0\n",
              "4  66.0                    0"
            ],
            "text/html": [
              "\n",
              "  <div id=\"df-9814ca94-3216-4825-8507-bc4e660bd1ef\">\n",
              "    <div class=\"colab-df-container\">\n",
              "      <div>\n",
              "<style scoped>\n",
              "    .dataframe tbody tr th:only-of-type {\n",
              "        vertical-align: middle;\n",
              "    }\n",
              "\n",
              "    .dataframe tbody tr th {\n",
              "        vertical-align: top;\n",
              "    }\n",
              "\n",
              "    .dataframe thead th {\n",
              "        text-align: right;\n",
              "    }\n",
              "</style>\n",
              "<table border=\"1\" class=\"dataframe\">\n",
              "  <thead>\n",
              "    <tr style=\"text-align: right;\">\n",
              "      <th></th>\n",
              "      <th>edad</th>\n",
              "      <th>cdc_fallecido_covid</th>\n",
              "    </tr>\n",
              "  </thead>\n",
              "  <tbody>\n",
              "    <tr>\n",
              "      <th>0</th>\n",
              "      <td>3.0</td>\n",
              "      <td>0</td>\n",
              "    </tr>\n",
              "    <tr>\n",
              "      <th>1</th>\n",
              "      <td>27.0</td>\n",
              "      <td>0</td>\n",
              "    </tr>\n",
              "    <tr>\n",
              "      <th>2</th>\n",
              "      <td>27.0</td>\n",
              "      <td>0</td>\n",
              "    </tr>\n",
              "    <tr>\n",
              "      <th>3</th>\n",
              "      <td>72.0</td>\n",
              "      <td>0</td>\n",
              "    </tr>\n",
              "    <tr>\n",
              "      <th>4</th>\n",
              "      <td>66.0</td>\n",
              "      <td>0</td>\n",
              "    </tr>\n",
              "  </tbody>\n",
              "</table>\n",
              "</div>\n",
              "      <button class=\"colab-df-convert\" onclick=\"convertToInteractive('df-9814ca94-3216-4825-8507-bc4e660bd1ef')\"\n",
              "              title=\"Convert this dataframe to an interactive table.\"\n",
              "              style=\"display:none;\">\n",
              "        \n",
              "  <svg xmlns=\"http://www.w3.org/2000/svg\" height=\"24px\"viewBox=\"0 0 24 24\"\n",
              "       width=\"24px\">\n",
              "    <path d=\"M0 0h24v24H0V0z\" fill=\"none\"/>\n",
              "    <path d=\"M18.56 5.44l.94 2.06.94-2.06 2.06-.94-2.06-.94-.94-2.06-.94 2.06-2.06.94zm-11 1L8.5 8.5l.94-2.06 2.06-.94-2.06-.94L8.5 2.5l-.94 2.06-2.06.94zm10 10l.94 2.06.94-2.06 2.06-.94-2.06-.94-.94-2.06-.94 2.06-2.06.94z\"/><path d=\"M17.41 7.96l-1.37-1.37c-.4-.4-.92-.59-1.43-.59-.52 0-1.04.2-1.43.59L10.3 9.45l-7.72 7.72c-.78.78-.78 2.05 0 2.83L4 21.41c.39.39.9.59 1.41.59.51 0 1.02-.2 1.41-.59l7.78-7.78 2.81-2.81c.8-.78.8-2.07 0-2.86zM5.41 20L4 18.59l7.72-7.72 1.47 1.35L5.41 20z\"/>\n",
              "  </svg>\n",
              "      </button>\n",
              "      \n",
              "  <style>\n",
              "    .colab-df-container {\n",
              "      display:flex;\n",
              "      flex-wrap:wrap;\n",
              "      gap: 12px;\n",
              "    }\n",
              "\n",
              "    .colab-df-convert {\n",
              "      background-color: #E8F0FE;\n",
              "      border: none;\n",
              "      border-radius: 50%;\n",
              "      cursor: pointer;\n",
              "      display: none;\n",
              "      fill: #1967D2;\n",
              "      height: 32px;\n",
              "      padding: 0 0 0 0;\n",
              "      width: 32px;\n",
              "    }\n",
              "\n",
              "    .colab-df-convert:hover {\n",
              "      background-color: #E2EBFA;\n",
              "      box-shadow: 0px 1px 2px rgba(60, 64, 67, 0.3), 0px 1px 3px 1px rgba(60, 64, 67, 0.15);\n",
              "      fill: #174EA6;\n",
              "    }\n",
              "\n",
              "    [theme=dark] .colab-df-convert {\n",
              "      background-color: #3B4455;\n",
              "      fill: #D2E3FC;\n",
              "    }\n",
              "\n",
              "    [theme=dark] .colab-df-convert:hover {\n",
              "      background-color: #434B5C;\n",
              "      box-shadow: 0px 1px 3px 1px rgba(0, 0, 0, 0.15);\n",
              "      filter: drop-shadow(0px 1px 2px rgba(0, 0, 0, 0.3));\n",
              "      fill: #FFFFFF;\n",
              "    }\n",
              "  </style>\n",
              "\n",
              "      <script>\n",
              "        const buttonEl =\n",
              "          document.querySelector('#df-9814ca94-3216-4825-8507-bc4e660bd1ef button.colab-df-convert');\n",
              "        buttonEl.style.display =\n",
              "          google.colab.kernel.accessAllowed ? 'block' : 'none';\n",
              "\n",
              "        async function convertToInteractive(key) {\n",
              "          const element = document.querySelector('#df-9814ca94-3216-4825-8507-bc4e660bd1ef');\n",
              "          const dataTable =\n",
              "            await google.colab.kernel.invokeFunction('convertToInteractive',\n",
              "                                                     [key], {});\n",
              "          if (!dataTable) return;\n",
              "\n",
              "          const docLinkHtml = 'Like what you see? Visit the ' +\n",
              "            '<a target=\"_blank\" href=https://colab.research.google.com/notebooks/data_table.ipynb>data table notebook</a>'\n",
              "            + ' to learn more about interactive tables.';\n",
              "          element.innerHTML = '';\n",
              "          dataTable['output_type'] = 'display_data';\n",
              "          await google.colab.output.renderOutput(dataTable, element);\n",
              "          const docLink = document.createElement('div');\n",
              "          docLink.innerHTML = docLinkHtml;\n",
              "          element.appendChild(docLink);\n",
              "        }\n",
              "      </script>\n",
              "    </div>\n",
              "  </div>\n",
              "  "
            ]
          },
          "metadata": {},
          "execution_count": 94
        }
      ]
    },
    {
      "cell_type": "code",
      "source": [
        "sns.lmplot(x =\"edad\", y =\"cdc_fallecido_covid\", data = df_binary, order = 2, ci = None)"
      ],
      "metadata": {
        "colab": {
          "base_uri": "https://localhost:8080/",
          "height": 387
        },
        "id": "sLU12m2FezuB",
        "outputId": "a9f5ea73-e75c-49bf-97fb-78daad3e329b"
      },
      "execution_count": null,
      "outputs": [
        {
          "output_type": "execute_result",
          "data": {
            "text/plain": [
              "<seaborn.axisgrid.FacetGrid at 0x7f3deca2b7c0>"
            ]
          },
          "metadata": {},
          "execution_count": 95
        },
        {
          "output_type": "display_data",
          "data": {
            "text/plain": [
              "<Figure size 360x360 with 1 Axes>"
            ],
            "image/png": "[encoded data removed]"
          },
          "metadata": {
            "needs_background": "light"
          }
        }
      ]
    },
    {
      "cell_type": "code",
      "source": [
        "X = np.array(df_binary['edad']).reshape(-1, 1)\n",
        "y = np.array(df_binary['cdc_fallecido_covid']).reshape(-1, 1)\n",
        "df_binary.dropna(inplace = True)\n",
        "X_train, X_test, y_train, y_test = train_test_split(X, y, test_size = 0.25)\n",
        "regr = LinearRegression()\n",
        "regr.fit(X_train, y_train)\n",
        "print(regr.score(X_test, y_test))"
      ],
      "metadata": {
        "colab": {
          "base_uri": "https://localhost:8080/"
        },
        "id": "c26g_ErRirZt",
        "outputId": "ca32bac7-4236-43a6-876e-5c5282a7f121"
      },
      "execution_count": null,
      "outputs": [
        {
          "output_type": "stream",
          "name": "stdout",
          "text": [
            "0.16433065298944205\n"
          ]
        },
        {
          "output_type": "stream",
          "name": "stderr",
          "text": [
            "/usr/local/lib/python3.8/dist-packages/pandas/util/_decorators.py:311: SettingWithCopyWarning: \n",
            "A value is trying to be set on a copy of a slice from a DataFrame\n",
            "\n",
            "See the caveats in the documentation: https://pandas.pydata.org/pandas-docs/stable/user_guide/indexing.html#returning-a-view-versus-a-copy\n",
            "  return func(*args, **kwargs)\n"
          ]
        }
      ]
    },
    {
      "cell_type": "code",
      "source": [
        "y_pred = regr.predict(X_test)\n",
        "plt.scatter(X_test, y_test, color ='b')\n",
        "plt.plot(X_test, y_pred, color ='k')\n",
        "plt.show()"
      ],
      "metadata": {
        "colab": {
          "base_uri": "https://localhost:8080/",
          "height": 265
        },
        "id": "F9hBYaIGjcET",
        "outputId": "0c6337fd-d12f-4560-a520-26909f6b0768"
      },
      "execution_count": null,
      "outputs": [
        {
          "output_type": "display_data",
          "data": {
            "text/plain": [
              "<Figure size 432x288 with 1 Axes>"
            ],
            "image/png": "[encoded data removed]"
          },
          "metadata": {
            "needs_background": "light"
          }
        }
      ]
    },
    {
      "cell_type": "code",
      "source": [
        "df_binary500 = df_binary[:][:500]\n",
        "sns.lmplot(x =\"edad\", y =\"cdc_fallecido_covid\", data = df_binary500,order = 2, ci = None)"
      ],
      "metadata": {
        "colab": {
          "base_uri": "https://localhost:8080/",
          "height": 387
        },
        "id": "1svRw_aXn6oQ",
        "outputId": "eb1b66d1-96e5-4f6e-f643-5e0fcdc9e7c2"
      },
      "execution_count": null,
      "outputs": [
        {
          "output_type": "execute_result",
          "data": {
            "text/plain": [
              "<seaborn.axisgrid.FacetGrid at 0x7f3deca2e5b0>"
            ]
          },
          "metadata": {},
          "execution_count": 98
        },
        {
          "output_type": "display_data",
          "data": {
            "text/plain": [
              "<Figure size 360x360 with 1 Axes>"
            ],
            "image/png": "[encoded data removed]"
          },
          "metadata": {
            "needs_background": "light"
          }
        }
      ]
    },
    {
      "cell_type": "markdown",
      "source": [
        "\n",
        "\n",
        "## **REGRESION LOGISTICA**\n",
        "\n"
      ],
      "metadata": {
        "id": "Ae8UTmJasqRX"
      }
    },
    {
      "cell_type": "code",
      "source": [
        "#Data\n",
        "X = np.array(df_binary['edad']).reshape(-1, 1)\n",
        "y = np.array(df_binary['cdc_fallecido_covid']).reshape(-1, 1)"
      ],
      "metadata": {
        "id": "omMsbv64xk2S"
      },
      "execution_count": null,
      "outputs": []
    },
    {
      "cell_type": "code",
      "source": [
        "from sklearn.linear_model import LogisticRegression\n",
        "\n",
        "# Creacion de una instancia de la RL\n",
        "regresion_logistica = LogisticRegression()\n",
        "\n",
        "# Entrenamiento\n",
        "regresion_logistica.fit(X,y)"
      ],
      "metadata": {
        "colab": {
          "base_uri": "https://localhost:8080/"
        },
        "id": "Q0q-NWSPxCB9",
        "outputId": "cb0da326-64fe-4a48-fea0-6002450f5af2"
      },
      "execution_count": null,
      "outputs": [
        {
          "output_type": "stream",
          "name": "stderr",
          "text": [
            "/usr/local/lib/python3.8/dist-packages/sklearn/utils/validation.py:993: DataConversionWarning: A column-vector y was passed when a 1d array was expected. Please change the shape of y to (n_samples, ), for example using ravel().\n",
            "  y = column_or_1d(y, warn=True)\n"
          ]
        },
        {
          "output_type": "execute_result",
          "data": {
            "text/plain": [
              "LogisticRegression()"
            ]
          },
          "metadata": {},
          "execution_count": 195
        }
      ]
    },
    {
      "cell_type": "code",
      "source": [
        "X_nuevo = np.array([58,56,68,7,79,86,98,111]).reshape(-1,1)\n",
        "# Obteniendo predicciones con los datos especificos\n",
        "prediccion = regresion_logistica.predict(X_nuevo)\n",
        "print(prediccion)"
      ],
      "metadata": {
        "colab": {
          "base_uri": "https://localhost:8080/"
        },
        "id": "gswKCsTOyJlL",
        "outputId": "116892c9-3d26-42c7-80d5-0b52e0852b9f"
      },
      "execution_count": null,
      "outputs": [
        {
          "output_type": "stream",
          "name": "stdout",
          "text": [
            "[0 0 0 0 1 1 1 1]\n"
          ]
        }
      ]
    },
    {
      "cell_type": "markdown",
      "source": [
        "# REDES NEURONALES"
      ],
      "metadata": {
        "id": "q91-LufkpgyF"
      }
    },
    {
      "cell_type": "code",
      "source": [
        "import pandas_datareader as pdr\n",
        "from datetime import datetime\n",
        "import tensorflow as tf\n",
        "import matplotlib.pyplot as plt\n",
        "\n",
        "capa = tf.keras.layers.Dense(units = 1, input_shape=[1])\n",
        "\n",
        "modelo = tf.keras.Sequential([capa])\n",
        "modelo.compile(\n",
        "  optimizer=tf.keras.optimizers.Adamax(0.1),\n",
        "  loss=\"mean_squared_error\"\n",
        ")\n",
        "\n",
        "historico = modelo.fit(data2.edad, data2.cdc_fallecido_covid, epochs=100, verbose=False)"
      ],
      "metadata": {
        "id": "K7p1l3ZsqpyJ"
      },
      "execution_count": null,
      "outputs": []
    },
    {
      "cell_type": "code",
      "source": [
        "plt.xlabel(\"Número de pruebas\")\n",
        "plt.ylabel(\"Magnitud de pérdida\")\n",
        "plt.plot(historico.history[\"loss\"], c='y')\n",
        "plt.show()"
      ],
      "metadata": {
        "colab": {
          "base_uri": "https://localhost:8080/",
          "height": 280
        },
        "id": "g2kwvqvwvfow",
        "outputId": "a09f3393-04da-43d6-9ec3-f0bad70664ea"
      },
      "execution_count": null,
      "outputs": [
        {
          "output_type": "display_data",
          "data": {
            "text/plain": [
              "<Figure size 432x288 with 1 Axes>"
            ],
            "image/png": "[encoded data removed]"
          },
          "metadata": {
            "needs_background": "light"
          }
        }
      ]
    },
    {
      "cell_type": "code",
      "source": [
        "#ingresar edad\n",
        "edad=86\n",
        "resp= modelo.predict([valor])\n",
        "print(\"VALOR SIN REDONDEO:   ----> \",resp)\n",
        "x = np.round(modelo.predict([valor]))\n",
        "print(x)\n",
        "\n",
        "if x < 1:\n",
        "  print(\"El paciente de \",edad,\" posee mayor probabilidad de vivir\")\n",
        "else:\n",
        "  print(\"El paciente de \",edad,\" posee mayor probabilidad de morir\")"
      ],
      "metadata": {
        "colab": {
          "base_uri": "https://localhost:8080/"
        },
        "id": "pML-_KhpenFa",
        "outputId": "4996bda3-e542-4255-d6dc-fae95ef311e5"
      },
      "execution_count": null,
      "outputs": [
        {
          "output_type": "stream",
          "name": "stdout",
          "text": [
            "1/1 [==============================] - 0s 67ms/step\n",
            "VALOR SIN REDONDEO:   ---->  [[0.77992916]]\n",
            "1/1 [==============================] - 0s 33ms/step\n",
            "[[1.]]\n",
            "El paciente de  86  posee mayor probabilidad de morir\n"
          ]
        }
      ]
    }
  ]
}